{
 "cells": [
  {
   "cell_type": "code",
   "execution_count": 2,
   "id": "d593ae52-630e-4770-8a81-987e5af96894",
   "metadata": {},
   "outputs": [
    {
     "name": "stderr",
     "output_type": "stream",
     "text": [
      "2025-02-23 11:46:06.070 WARNING streamlit.runtime.scriptrunner_utils.script_run_context: Thread 'MainThread': missing ScriptRunContext! This warning can be ignored when running in bare mode.\n"
     ]
    }
   ],
   "source": [
    "#|export\n",
    "import pandas as pd \n",
    "import numpy as np \n",
    "import plotly \n",
    "import chart_studio.plotly as py\n",
    "import plotly.graph_objs as go\n",
    "import plotly_express as px\n",
    "import streamlit as st\n",
    "import altair as alt\n",
    "\n",
    "st.set_page_config(\n",
    "    page_title=\"World travel Data\",\n",
    "    page_icon=\"🌍\",\n",
    "    layout=\"wide\",\n",
    "    initial_sidebar_state=\"expanded\")\n",
    "\n",
    "\n",
    "\n",
    "pd.set_option(\"display.float.format\", lambda x: \"%.2f\" % x)"
   ]
  },
  {
   "cell_type": "code",
   "execution_count": 3,
   "id": "b2c75303-517e-466e-b0f5-7c32e9e0bb25",
   "metadata": {},
   "outputs": [],
   "source": [
    "#|export\n",
    "inbound_data = pd.read_excel('travel_data.xls', sheet_name=\"number_of_arrival\", header=3, index_col=0)\n",
    "#inbound_data.head()"
   ]
  },
  {
   "cell_type": "code",
   "execution_count": 4,
   "id": "a4bc42c7-8f62-4419-bdaa-6bd86066edc5",
   "metadata": {},
   "outputs": [],
   "source": [
    "#|export\n",
    "country_codes = pd.read_excel('travel_data.xls', sheet_name= 'country code')\n",
    "#country_codes.head()"
   ]
  },
  {
   "cell_type": "code",
   "execution_count": 5,
   "id": "98aabe90-8caa-44ee-96e2-4e64db196225",
   "metadata": {},
   "outputs": [],
   "source": [
    "#|export\n",
    "inbound_data = pd.merge(country_codes, inbound_data, left_on = \"Country Code\", right_on = \"Country Code\", how=\"left\")\n",
    "#inbound_data.head()"
   ]
  },
  {
   "cell_type": "code",
   "execution_count": 6,
   "id": "f1b94d46-ca3e-45c3-bb94-24b84ed37421",
   "metadata": {},
   "outputs": [],
   "source": [
    "#|export\n",
    "inbound_data = inbound_data.set_index(\"Country Name\")\n",
    "#inbound_data.head()"
   ]
  },
  {
   "cell_type": "code",
   "execution_count": 7,
   "id": "cbbcee2f-27d2-4204-b9a8-bb1be92c1cc2",
   "metadata": {},
   "outputs": [],
   "source": [
    "#|export\n",
    "#select columns from year 2007 to 2017\n",
    "new_inbound_data = pd.concat([inbound_data[\"Country Code\"],inbound_data.loc[:,\"2005\":\"2017\"]], axis=1)\n",
    "#new_inbound_data.head()"
   ]
  },
  {
   "cell_type": "code",
   "execution_count": 8,
   "id": "7881ab7b-3094-4f03-9d89-127f556cf547",
   "metadata": {},
   "outputs": [],
   "source": [
    "#|export\n",
    "#replace missing value by 0\n",
    "new_inbound_data = new_inbound_data.fillna(0)\n",
    "#new_inbound_data.head()"
   ]
  },
  {
   "cell_type": "code",
   "execution_count": 9,
   "id": "15fec619-94b7-408e-9881-6e7c848886a0",
   "metadata": {},
   "outputs": [],
   "source": [
    "#|export\n",
    "new_inbound_data.set_index([\"Country Code\"], inplace = True, append = True)\n",
    "#new_inbound_data.head()"
   ]
  },
  {
   "cell_type": "code",
   "execution_count": 10,
   "id": "1865324c-deba-4d3c-a9b1-5ad91cd1e35e",
   "metadata": {},
   "outputs": [],
   "source": [
    "#|export\n",
    "#use stack to change the data frame shape\n",
    "new_inbound_data = new_inbound_data.stack()\n",
    "#new_inbound_data.head()"
   ]
  },
  {
   "cell_type": "code",
   "execution_count": 11,
   "id": "8932857c-d2d7-4add-b0c9-4771ba3880d9",
   "metadata": {},
   "outputs": [],
   "source": [
    "#|export\n",
    "new_inbound_data = pd.DataFrame(new_inbound_data)\n",
    "#new_inbound_data.head()"
   ]
  },
  {
   "cell_type": "code",
   "execution_count": 12,
   "id": "8a5daeca-cac8-4f1f-8cf5-718c1efd035c",
   "metadata": {},
   "outputs": [],
   "source": [
    "#|export\n",
    "new_inbound_data = new_inbound_data.reset_index()\n",
    "#new_inbound_data.head()"
   ]
  },
  {
   "cell_type": "code",
   "execution_count": 13,
   "id": "9060766e-9848-4000-a466-d30df39a0c15",
   "metadata": {},
   "outputs": [],
   "source": [
    "#|export\n",
    "#rename column names\n",
    "new_inbound_data= new_inbound_data.rename(columns = {\"level_2\":\"Year\",0:\"Amount\"})\n",
    "#new_inbound_data.head()"
   ]
  },
  {
   "cell_type": "code",
   "execution_count": 14,
   "id": "4b0f7b4c-5356-4dd0-b79b-e812cea5b5ab",
   "metadata": {},
   "outputs": [
    {
     "data": {
      "text/html": [
       "<iframe\n",
       "    scrolling=\"no\"\n",
       "    width=\"2020px\"\n",
       "    height=\"1020\"\n",
       "    src=\"iframe_figures/figure_14.html\"\n",
       "    frameborder=\"0\"\n",
       "    allowfullscreen\n",
       "></iframe>\n"
      ]
     },
     "metadata": {},
     "output_type": "display_data"
    }
   ],
   "source": [
    "\n",
    "inbound_map = px.choropleth(new_inbound_data, \n",
    "                            locations=\"Country Code\", \n",
    "                            color=\"Amount\", \n",
    "                            hover_name=\"Country Name\",\n",
    "                            #set the animation slide bar\n",
    "                            animation_frame=\"Year\",\n",
    "                            color_continuous_scale=px.colors.sequential.BuGn,\n",
    "                            #set the map type\n",
    "                            projection=\"natural earth\",\n",
    "                            width = 2000, \n",
    "                            height= 1000)\n",
    "inbound_map.show(renderer='iframe')"
   ]
  },
  {
   "cell_type": "code",
   "execution_count": 15,
   "id": "4da8a44e-c668-4fef-9a63-7ac920dd7ef7",
   "metadata": {},
   "outputs": [],
   "source": [
    "#|export\n",
    "#find the top countries that attract tourists\n",
    "top_inbound = inbound_data.sort_values(\"2017\", ascending=False).head(10)\n",
    "top_inbound_list = list(top_inbound.index)\n",
    "\n",
    "\n",
    "\n",
    "# In[11]:\n",
    "\n",
    "\n",
    "#select the top countries' data \n",
    "top_inbound_data = new_inbound_data.loc[new_inbound_data[\"Country Name\"].isin(top_inbound_list)]\n",
    "#top_inbound_data.head()"
   ]
  },
  {
   "cell_type": "code",
   "execution_count": 16,
   "id": "66638446-baaf-4f7a-840a-0f9ed93ed6fb",
   "metadata": {},
   "outputs": [
    {
     "data": {
      "text/html": [
       "<iframe\n",
       "    scrolling=\"no\"\n",
       "    width=\"100%\"\n",
       "    height=\"545px\"\n",
       "    src=\"iframe_figures/figure_16.html\"\n",
       "    frameborder=\"0\"\n",
       "    allowfullscreen\n",
       "></iframe>\n"
      ]
     },
     "metadata": {},
     "output_type": "display_data"
    }
   ],
   "source": [
    "\n",
    "inbound_top = px.line(top_inbound_data, \n",
    "                      x=\"Year\", \n",
    "                      y=\"Amount\", \n",
    "                      color=\"Country Name\", \n",
    "                      line_group=\"Country Name\",  \n",
    "                      line_shape=\"linear\", \n",
    "                      title=\"Top countries that attract tourists\")\n",
    "inbound_top.show(renderer='iframe')"
   ]
  },
  {
   "cell_type": "code",
   "execution_count": 17,
   "id": "27ee1b39-e7a0-456d-aae5-3783405503bc",
   "metadata": {},
   "outputs": [],
   "source": [
    "#|export\n",
    "#importing all data  \n",
    "\n",
    "inbound = pd.read_excel('travel_data.xls', sheet_name=\"number_of_arrival\", header=3, index_col=0)\n",
    "outbound = pd.read_excel('travel_data.xls', sheet_name=\"number_of_departure\", header=3, index_col=0)\n",
    "population = pd.read_excel('travel_data.xls', sheet_name=\"population\", header=3, index_col=0)\n",
    "GDP = pd.read_excel('travel_data.xls', sheet_name=\"GDP\", header=3, index_col=0)\n",
    "country_names = pd.read_excel('travel_data.xls', sheet_name= 'country code')\n",
    "\n"
   ]
  },
  {
   "cell_type": "code",
   "execution_count": 18,
   "id": "0c9c731c-dcc9-43f5-832c-34ddf73bba08",
   "metadata": {},
   "outputs": [
    {
     "name": "stderr",
     "output_type": "stream",
     "text": [
      "/var/folders/4y/67_mnd3d1qj8_bphj56jl1200000gn/T/ipykernel_91553/1022752012.py:4: FutureWarning:\n",
      "\n",
      "Series.__getitem__ treating keys as positions is deprecated. In a future version, integer keys will always be treated as labels (consistent with DataFrame behavior). To access a value by position, use `ser.iloc[pos]`\n",
      "\n"
     ]
    }
   ],
   "source": [
    "#|export\n",
    "#select only the relevant columns 2005 to 2017\n",
    "def select_data(df):\n",
    "    amount = df['Indicator Name'][0]\n",
    "    df = pd.merge(country_names, df, left_on = 'Country Code', right_on = 'Country Code', how = 'left')\n",
    "    df = df.set_index('Country Name')\n",
    "    df = pd.concat([df['Country Code'],df.loc[:,'2005':'2017']], axis=1)\n",
    "    df = df.fillna(0)\n",
    "    df = df.set_index([\"Country Code\"], append = True)\n",
    "    df = df.stack()\n",
    "    df = pd.DataFrame(df)\n",
    "    df = df.reset_index()\n",
    "    df = df.rename(columns = {\"level_2\":\"Year\", 0:amount})\n",
    "    return df\n",
    "inbound = select_data(inbound)\n",
    "#inbound.head()\n",
    "    \n",
    "                              "
   ]
  },
  {
   "cell_type": "code",
   "execution_count": 19,
   "id": "74b2e12d-1ba0-48e2-a59e-8171e5874865",
   "metadata": {},
   "outputs": [
    {
     "name": "stderr",
     "output_type": "stream",
     "text": [
      "/var/folders/4y/67_mnd3d1qj8_bphj56jl1200000gn/T/ipykernel_91553/1022752012.py:4: FutureWarning:\n",
      "\n",
      "Series.__getitem__ treating keys as positions is deprecated. In a future version, integer keys will always be treated as labels (consistent with DataFrame behavior). To access a value by position, use `ser.iloc[pos]`\n",
      "\n"
     ]
    }
   ],
   "source": [
    "#|export\n",
    "outbound = select_data(outbound)\n",
    "#outbound.head()"
   ]
  },
  {
   "cell_type": "code",
   "execution_count": 20,
   "id": "2f4e73f0-2bef-4572-bfe0-0089aada5c10",
   "metadata": {},
   "outputs": [
    {
     "name": "stderr",
     "output_type": "stream",
     "text": [
      "/var/folders/4y/67_mnd3d1qj8_bphj56jl1200000gn/T/ipykernel_91553/1022752012.py:4: FutureWarning:\n",
      "\n",
      "Series.__getitem__ treating keys as positions is deprecated. In a future version, integer keys will always be treated as labels (consistent with DataFrame behavior). To access a value by position, use `ser.iloc[pos]`\n",
      "\n"
     ]
    }
   ],
   "source": [
    "#|export\n",
    "population = select_data(population)\n",
    "#population.head()"
   ]
  },
  {
   "cell_type": "code",
   "execution_count": 21,
   "id": "11a549ec-eb1c-41df-a5cc-c09bc5763d29",
   "metadata": {},
   "outputs": [
    {
     "name": "stderr",
     "output_type": "stream",
     "text": [
      "/var/folders/4y/67_mnd3d1qj8_bphj56jl1200000gn/T/ipykernel_91553/1022752012.py:4: FutureWarning:\n",
      "\n",
      "Series.__getitem__ treating keys as positions is deprecated. In a future version, integer keys will always be treated as labels (consistent with DataFrame behavior). To access a value by position, use `ser.iloc[pos]`\n",
      "\n"
     ]
    }
   ],
   "source": [
    "#|export\n",
    "GDP = select_data(GDP)\n",
    "#GDP.head()"
   ]
  },
  {
   "cell_type": "code",
   "execution_count": 22,
   "id": "b76b03bc-fcb9-49bc-939b-9eaa7af36ce2",
   "metadata": {},
   "outputs": [],
   "source": [
    "#|export\n",
    "complete_data = inbound.merge(outbound)\n",
    "#complete_data.head()"
   ]
  },
  {
   "cell_type": "code",
   "execution_count": 23,
   "id": "418ee236-d461-4fee-994a-cf16039b2dc5",
   "metadata": {},
   "outputs": [],
   "source": [
    "#|export\n",
    "complete_data = complete_data.merge(population) \n",
    "#complete_data.head()"
   ]
  },
  {
   "cell_type": "code",
   "execution_count": 24,
   "id": "9b2c2792-7a4f-4fc2-9888-9aee828dc2fb",
   "metadata": {},
   "outputs": [],
   "source": [
    "#|export\n",
    "complete_data = complete_data.merge(GDP)\n",
    "#complete_data.head()"
   ]
  },
  {
   "cell_type": "code",
   "execution_count": 25,
   "id": "1c16e732-6ca0-4881-b346-8e8a6dc7fb1a",
   "metadata": {},
   "outputs": [],
   "source": [
    "#|export\n",
    "complete_data.Year = complete_data.Year.astype('int64')"
   ]
  },
  {
   "cell_type": "code",
   "execution_count": 26,
   "id": "ad5cff1c-4ade-4143-9534-d85b2015333d",
   "metadata": {},
   "outputs": [
    {
     "data": {
      "text/plain": [
       "ThemeRegistry.enable('dark')"
      ]
     },
     "execution_count": 26,
     "metadata": {},
     "output_type": "execute_result"
    }
   ],
   "source": [
    "#|export\n",
    "\n",
    "alt.theme.enable(\"dark\")"
   ]
  },
  {
   "cell_type": "code",
   "execution_count": 27,
   "id": "8d9fd495-b25f-473c-a6a5-38b7436fecf5",
   "metadata": {},
   "outputs": [
    {
     "name": "stderr",
     "output_type": "stream",
     "text": [
      "2025-02-23 11:46:06.651 WARNING streamlit.runtime.scriptrunner_utils.script_run_context: Thread 'MainThread': missing ScriptRunContext! This warning can be ignored when running in bare mode.\n",
      "2025-02-23 11:46:06.763 \n",
      "  \u001b[33m\u001b[1mWarning:\u001b[0m to view this Streamlit app on a browser, run it with the following\n",
      "  command:\n",
      "\n",
      "    streamlit run /Users/borja/anaconda3/envs/Kaggle/lib/python3.12/site-packages/ipykernel_launcher.py [ARGUMENTS]\n",
      "2025-02-23 11:46:06.763 Thread 'MainThread': missing ScriptRunContext! This warning can be ignored when running in bare mode.\n",
      "2025-02-23 11:46:06.764 Thread 'MainThread': missing ScriptRunContext! This warning can be ignored when running in bare mode.\n",
      "2025-02-23 11:46:06.764 Thread 'MainThread': missing ScriptRunContext! This warning can be ignored when running in bare mode.\n",
      "2025-02-23 11:46:06.764 Thread 'MainThread': missing ScriptRunContext! This warning can be ignored when running in bare mode.\n",
      "2025-02-23 11:46:06.765 Thread 'MainThread': missing ScriptRunContext! This warning can be ignored when running in bare mode.\n",
      "2025-02-23 11:46:06.765 Session state does not function when running a script without `streamlit run`\n",
      "2025-02-23 11:46:06.765 Thread 'MainThread': missing ScriptRunContext! This warning can be ignored when running in bare mode.\n",
      "2025-02-23 11:46:06.765 Thread 'MainThread': missing ScriptRunContext! This warning can be ignored when running in bare mode.\n",
      "2025-02-23 11:46:06.766 Thread 'MainThread': missing ScriptRunContext! This warning can be ignored when running in bare mode.\n",
      "2025-02-23 11:46:06.768 Thread 'MainThread': missing ScriptRunContext! This warning can be ignored when running in bare mode.\n",
      "2025-02-23 11:46:06.768 Thread 'MainThread': missing ScriptRunContext! This warning can be ignored when running in bare mode.\n",
      "2025-02-23 11:46:06.769 Thread 'MainThread': missing ScriptRunContext! This warning can be ignored when running in bare mode.\n",
      "2025-02-23 11:46:06.769 Thread 'MainThread': missing ScriptRunContext! This warning can be ignored when running in bare mode.\n",
      "2025-02-23 11:46:06.770 Thread 'MainThread': missing ScriptRunContext! This warning can be ignored when running in bare mode.\n"
     ]
    }
   ],
   "source": [
    "#|export\n",
    "with st.sidebar:\n",
    "    st.title('World travel Dashboard')\n",
    "    \n",
    "    year_list = list(complete_data.Year.unique())[::-1]\n",
    "    \n",
    "    selected_year = st.selectbox('Select a year', year_list, index=len(year_list)-1)\n",
    "    df_selected_year = complete_data[complete_data.Year == selected_year]\n",
    "    df_selected_year_sorted = df_selected_year.sort_values(by=\"International tourism, number of arrivals\", ascending=False)\n",
    "\n",
    "    color_theme_list = ['blues', 'cividis', 'greens', 'inferno', 'magma', 'plasma', 'reds', 'rainbow', 'turbo', 'viridis']\n",
    "    selected_color_theme = st.selectbox('Select a color theme', color_theme_list)"
   ]
  },
  {
   "cell_type": "code",
   "execution_count": 28,
   "id": "ac76d73c-fff2-4ca4-bcfa-d58a1472962b",
   "metadata": {},
   "outputs": [],
   "source": [
    "#|export\n",
    "def make_heatmap(input_df, input_y, input_x, input_color, input_color_theme):\n",
    "    heatmap = alt.Chart(input_df).mark_rect().encode(\n",
    "            y=alt.Y(f'{input_y}:O', axis=alt.Axis(title=\"Year\", titleFontSize=18, titlePadding=15, titleFontWeight=900, labelAngle=0)),\n",
    "            x=alt.X(f'{input_x}:O', axis=alt.Axis(title=\"\", titleFontSize=18, titlePadding=15, titleFontWeight=900)),\n",
    "            color=alt.Color(f'max({input_color}):Q',\n",
    "                             legend=None,\n",
    "                             scale=alt.Scale(scheme=input_color_theme)),\n",
    "            stroke=alt.value('black'),\n",
    "            strokeWidth=alt.value(0.25),\n",
    "        ).properties(width=900\n",
    "        ).configure_axis(\n",
    "        labelFontSize=12,\n",
    "        titleFontSize=12\n",
    "        ) \n",
    "    # height=300\n",
    "    return heatmap"
   ]
  },
  {
   "cell_type": "code",
   "execution_count": 29,
   "id": "fe2adb07-ad83-4575-8ca1-149f62779c19",
   "metadata": {},
   "outputs": [],
   "source": [
    "#|export\n",
    "def make_choropleth(input_df, input_id, input_column, input_color_theme):\n",
    "    choropleth = px.choropleth(input_df, locations=input_id, color=input_column, locationmode=\"country names\",\n",
    "                               color_continuous_scale=input_color_theme,\n",
    "                               range_color=(0, max(df_selected_year['International tourism, number of arrivals'])),\n",
    "                               scope=\"world\",\n",
    "                               labels={'International tourism, number of arrivals':'International arrivals'}\n",
    "                              )\n",
    "    choropleth.update_layout(\n",
    "        template='plotly_dark',\n",
    "        plot_bgcolor='rgba(0, 0, 0, 0)',\n",
    "        paper_bgcolor='rgba(0, 0, 0, 0)',\n",
    "        margin=dict(l=0, r=0, t=0, b=0),\n",
    "        height=350\n",
    "    )\n",
    "    return choropleth"
   ]
  },
  {
   "cell_type": "code",
   "execution_count": null,
   "id": "25f826e8-ea1f-4bdf-8360-bb22dc3effbf",
   "metadata": {},
   "outputs": [],
   "source": []
  },
  {
   "cell_type": "code",
   "execution_count": 30,
   "id": "5d355349-9119-497b-92b5-bbec6c2d322c",
   "metadata": {},
   "outputs": [],
   "source": [
    "#|export\n",
    "def make_line(input_df, input_x,input_y):\n",
    "    line = px.line(input_df, \n",
    "                      x=input_x, \n",
    "                      y=input_y, \n",
    "                      color= \"Country Name\", \n",
    "                      line_group=\"Country Name\",  \n",
    "                      line_shape=\"linear\"\n",
    "                      )\n",
    "    line.update_layout(\n",
    "        template='plotly_dark',\n",
    "        plot_bgcolor='rgba(0, 0, 0, 0)',\n",
    "        paper_bgcolor='rgba(0, 0, 0, 0)',\n",
    "        margin=dict(l=0, r=0, t=0, b=0),\n",
    "        height=350\n",
    "    )\n",
    "    return line"
   ]
  },
  {
   "cell_type": "code",
   "execution_count": 31,
   "id": "53229a15-1de4-42a8-a432-e9b4ef47b537",
   "metadata": {},
   "outputs": [],
   "source": [
    "#|export\n",
    "def calculate_arrivals_difference(input_df, input_year):\n",
    "  selected_year_data = input_df[input_df['Year'] == input_year].reset_index()\n",
    "  previous_year_data = input_df[input_df['Year'] == input_year - 1].reset_index()\n",
    "  selected_year_data['incoming_difference'] = selected_year_data['International tourism, number of arrivals'].sub(previous_year_data['International tourism, number of arrivals'], fill_value=0)\n",
    "  return pd.concat([selected_year_data['Country Name'], selected_year_data['Country Code'],selected_year_data['International tourism, number of arrivals'], selected_year_data['incoming_difference']], axis=1).sort_values(by=\"incoming_difference\", ascending=False)\n",
    "\n",
    "    "
   ]
  },
  {
   "cell_type": "code",
   "execution_count": 32,
   "id": "8ca38535-1d5b-47d2-bda2-b7e2a5f583c7",
   "metadata": {},
   "outputs": [],
   "source": [
    "#|export\n",
    "def make_donut(input_response, input_text, input_color):\n",
    "  if input_color == 'blue':\n",
    "      chart_color = ['#29b5e8', '#155F7A']\n",
    "  if input_color == 'green':\n",
    "      chart_color = ['#27AE60', '#12783D']\n",
    "  if input_color == 'orange':\n",
    "      chart_color = ['#F39C12', '#875A12']\n",
    "  if input_color == 'red':\n",
    "      chart_color = ['#E74C3C', '#781F16']\n",
    "    \n",
    "  source = pd.DataFrame({\n",
    "      \"Topic\": ['', input_text],\n",
    "      \"% value\": [100-input_response, input_response]\n",
    "  })\n",
    "  source_bg = pd.DataFrame({\n",
    "      \"Topic\": ['', input_text],\n",
    "      \"% value\": [100, 0]\n",
    "  })\n",
    "    \n",
    "  plot = alt.Chart(source).mark_arc(innerRadius=45, cornerRadius=25).encode(\n",
    "      theta=\"% value\",\n",
    "      color= alt.Color(\"Topic:N\",\n",
    "                      scale=alt.Scale(\n",
    "                          #domain=['A', 'B'],\n",
    "                          domain=[input_text, ''],\n",
    "                          # range=['#29b5e8', '#155F7A']),  # 31333F\n",
    "                          range=chart_color),\n",
    "                      legend=None),\n",
    "  ).properties(width=130, height=130)\n",
    "    \n",
    "  text = plot.mark_text(align='center', color=\"#29b5e8\", font=\"Lato\", fontSize=32, fontWeight=700, fontStyle=\"italic\").encode(text=alt.value(f'{input_response} %'))\n",
    "  plot_bg = alt.Chart(source_bg).mark_arc(innerRadius=45, cornerRadius=20).encode(\n",
    "      theta=\"% value\",\n",
    "      color= alt.Color(\"Topic:N\",\n",
    "                      scale=alt.Scale(\n",
    "                          # domain=['A', 'B'],\n",
    "                          domain=[input_text, ''],\n",
    "                          range=chart_color),  # 31333F\n",
    "                      legend=None),\n",
    "  ).properties(width=130, height=130)\n",
    "  return plot_bg + plot + text"
   ]
  },
  {
   "cell_type": "code",
   "execution_count": 33,
   "id": "17385a00-8eb9-45ea-af0f-a03b5aed1906",
   "metadata": {},
   "outputs": [],
   "source": [
    "#|export\n",
    "def format_number(num):\n",
    "    if num > 1000000:\n",
    "        if not num % 1000000:\n",
    "            return f'{num // 1000000} M'\n",
    "        return f'{round(num / 1000000, 1)} M'\n",
    "    return f'{num // 1000} K'"
   ]
  },
  {
   "cell_type": "code",
   "execution_count": 34,
   "id": "c6d50d97-e556-44a1-b389-10e240210cdd",
   "metadata": {},
   "outputs": [
    {
     "name": "stderr",
     "output_type": "stream",
     "text": [
      "2025-02-23 11:46:06.796 Thread 'MainThread': missing ScriptRunContext! This warning can be ignored when running in bare mode.\n",
      "2025-02-23 11:46:06.797 Thread 'MainThread': missing ScriptRunContext! This warning can be ignored when running in bare mode.\n",
      "2025-02-23 11:46:06.797 Thread 'MainThread': missing ScriptRunContext! This warning can be ignored when running in bare mode.\n"
     ]
    }
   ],
   "source": [
    "#|export\n",
    "col = st.columns((3, 5), gap='medium')"
   ]
  },
  {
   "cell_type": "code",
   "execution_count": 35,
   "id": "3b899877-57b6-478d-8295-1beb6f3897bf",
   "metadata": {
    "scrolled": true
   },
   "outputs": [
    {
     "name": "stderr",
     "output_type": "stream",
     "text": [
      "2025-02-23 11:46:06.804 Thread 'MainThread': missing ScriptRunContext! This warning can be ignored when running in bare mode.\n",
      "2025-02-23 11:46:06.804 Thread 'MainThread': missing ScriptRunContext! This warning can be ignored when running in bare mode.\n",
      "2025-02-23 11:46:06.808 Thread 'MainThread': missing ScriptRunContext! This warning can be ignored when running in bare mode.\n",
      "2025-02-23 11:46:06.808 Thread 'MainThread': missing ScriptRunContext! This warning can be ignored when running in bare mode.\n",
      "2025-02-23 11:46:06.808 Thread 'MainThread': missing ScriptRunContext! This warning can be ignored when running in bare mode.\n",
      "2025-02-23 11:46:06.808 Thread 'MainThread': missing ScriptRunContext! This warning can be ignored when running in bare mode.\n",
      "2025-02-23 11:46:06.809 Thread 'MainThread': missing ScriptRunContext! This warning can be ignored when running in bare mode.\n",
      "2025-02-23 11:46:06.809 Thread 'MainThread': missing ScriptRunContext! This warning can be ignored when running in bare mode.\n",
      "2025-02-23 11:46:06.827 Thread 'MainThread': missing ScriptRunContext! This warning can be ignored when running in bare mode.\n",
      "2025-02-23 11:46:06.827 Thread 'MainThread': missing ScriptRunContext! This warning can be ignored when running in bare mode.\n",
      "2025-02-23 11:46:06.828 Thread 'MainThread': missing ScriptRunContext! This warning can be ignored when running in bare mode.\n",
      "2025-02-23 11:46:06.828 Thread 'MainThread': missing ScriptRunContext! This warning can be ignored when running in bare mode.\n",
      "2025-02-23 11:46:06.829 Thread 'MainThread': missing ScriptRunContext! This warning can be ignored when running in bare mode.\n",
      "2025-02-23 11:46:06.829 Thread 'MainThread': missing ScriptRunContext! This warning can be ignored when running in bare mode.\n",
      "2025-02-23 11:46:06.829 Thread 'MainThread': missing ScriptRunContext! This warning can be ignored when running in bare mode.\n",
      "2025-02-23 11:46:06.830 Thread 'MainThread': missing ScriptRunContext! This warning can be ignored when running in bare mode.\n",
      "2025-02-23 11:46:06.847 Thread 'MainThread': missing ScriptRunContext! This warning can be ignored when running in bare mode.\n",
      "2025-02-23 11:46:06.847 Thread 'MainThread': missing ScriptRunContext! This warning can be ignored when running in bare mode.\n",
      "2025-02-23 11:46:06.848 Thread 'MainThread': missing ScriptRunContext! This warning can be ignored when running in bare mode.\n",
      "2025-02-23 11:46:06.848 Thread 'MainThread': missing ScriptRunContext! This warning can be ignored when running in bare mode.\n",
      "2025-02-23 11:46:06.848 Thread 'MainThread': missing ScriptRunContext! This warning can be ignored when running in bare mode.\n",
      "2025-02-23 11:46:06.849 Thread 'MainThread': missing ScriptRunContext! This warning can be ignored when running in bare mode.\n",
      "2025-02-23 11:46:06.858 Thread 'MainThread': missing ScriptRunContext! This warning can be ignored when running in bare mode.\n",
      "2025-02-23 11:46:06.858 Thread 'MainThread': missing ScriptRunContext! This warning can be ignored when running in bare mode.\n",
      "2025-02-23 11:46:06.858 Thread 'MainThread': missing ScriptRunContext! This warning can be ignored when running in bare mode.\n",
      "2025-02-23 11:46:06.858 Thread 'MainThread': missing ScriptRunContext! This warning can be ignored when running in bare mode.\n",
      "2025-02-23 11:46:06.859 Thread 'MainThread': missing ScriptRunContext! This warning can be ignored when running in bare mode.\n",
      "2025-02-23 11:46:06.859 Thread 'MainThread': missing ScriptRunContext! This warning can be ignored when running in bare mode.\n",
      "2025-02-23 11:46:06.860 Thread 'MainThread': missing ScriptRunContext! This warning can be ignored when running in bare mode.\n",
      "2025-02-23 11:46:06.860 Thread 'MainThread': missing ScriptRunContext! This warning can be ignored when running in bare mode.\n",
      "2025-02-23 11:46:06.860 Thread 'MainThread': missing ScriptRunContext! This warning can be ignored when running in bare mode.\n",
      "2025-02-23 11:46:06.860 Thread 'MainThread': missing ScriptRunContext! This warning can be ignored when running in bare mode.\n",
      "2025-02-23 11:46:06.861 Thread 'MainThread': missing ScriptRunContext! This warning can be ignored when running in bare mode.\n"
     ]
    }
   ],
   "source": [
    "#|export\n",
    "with col[0]:\n",
    "    st.markdown('#### Gains/Losses')\n",
    "\n",
    "    df_arrivals_difference_sorted = calculate_arrivals_difference(complete_data, selected_year)\n",
    "\n",
    "    if selected_year > 2010:\n",
    "        first_country_name = df_arrivals_difference_sorted['Country Name'].iloc[0]\n",
    "        first_country_arrivals = format_number(df_arrivals_difference_sorted['International tourism, number of arrivals'].iloc[0])\n",
    "        first_country_delta = format_number(df_arrivals_difference_sorted.incoming_difference.iloc[0])\n",
    "    else:\n",
    "        first_country_name = '-'\n",
    "        first_country_arrivals = '-'\n",
    "        first_country_delta = ''\n",
    "    st.metric(label=first_country_name, value=first_country_arrivals, delta=first_country_delta)\n",
    "\n",
    "    if selected_year > 2010:\n",
    "        last_country_name = df_arrivals_difference_sorted['Country Name'].iloc[-1]\n",
    "        last_country_arrivals = format_number(df_arrivals_difference_sorted['International tourism, number of arrivals'].iloc[-1])   \n",
    "        last_country_delta = format_number(df_arrivals_difference_sorted.incoming_difference.iloc[-1])   \n",
    "    else:\n",
    "        last_country_name = '-'\n",
    "        last_country_arrivals = '-'\n",
    "        last_country_delta = ''\n",
    "    st.metric(label=last_country_name, value=last_country_arrivals, delta=last_country_delta)\n",
    "\n",
    "    \n",
    "    st.markdown('#### Countries Tourism')\n",
    "\n",
    "    if selected_year > 2010:\n",
    "        # Filter countries with arrivals difference > 50000\n",
    "        # df_greater_50000 = df_population_difference_sorted[df_population_difference_sorted.population_difference_absolute > 50000]\n",
    "        df_greater_50000 = df_arrivals_difference_sorted[df_arrivals_difference_sorted.incoming_difference > 50000]\n",
    "        df_less_50000 = df_arrivals_difference_sorted[df_arrivals_difference_sorted.incoming_difference < -50000]\n",
    "        \n",
    "        # % of Countries with arrivals difference > 50000\n",
    "        countries_tourism_greater = round((len(df_greater_50000)/df_arrivals_difference_sorted['Country Name'].nunique())*100)\n",
    "        countries_tourism_less = round((len(df_less_50000)/df_arrivals_difference_sorted['Country Name'].nunique())*100)\n",
    "        donut_chart_greater = make_donut(countries_tourism_greater, 'Tourism increased', 'green')\n",
    "        donut_chart_less = make_donut(countries_tourism_less, 'Tourism decreased', 'red')\n",
    "    else:\n",
    "        countries_tourism_greater = 0\n",
    "        countries_tourism_less = 0\n",
    "        donut_chart_greater = make_donut(countries_tourism_greater, 'Tourism increased', 'green')\n",
    "        donut_chart_less = make_donut(countries_tourism_less, 'Tourism decreased', 'red')\n",
    "\n",
    "    tourism_col = st.columns((0.2, 1, 0.2))\n",
    "    with tourism_col[1]:\n",
    "        st.write('Increased')\n",
    "        st.altair_chart(donut_chart_greater)\n",
    "        st.write('Decreased')\n",
    "        st.altair_chart(donut_chart_less)\n",
    "\n",
    "    st.markdown('#### Top Countries')\n",
    "\n",
    "    st.dataframe(df_selected_year_sorted,\n",
    "                 column_order=(\"Country Name\", \"International tourism, number of arrivals\"),\n",
    "                 hide_index=True,\n",
    "                 width=None,\n",
    "                 column_config={\n",
    "                    \"Country Name\": st.column_config.TextColumn(\n",
    "                        \"Countries\",\n",
    "                    ),\n",
    "                    \"International tourism, number of arrivals\": st.column_config.ProgressColumn(\n",
    "                        \"Tourism arrivals\",\n",
    "                        format=\"%f\",\n",
    "                        min_value=0,\n",
    "                        max_value=max(df_selected_year_sorted['International tourism, number of arrivals']),\n",
    "                     )}\n",
    "                 )\n",
    "    \n",
    "    with st.expander('About', expanded=True):\n",
    "        st.write('''\n",
    "            - Data: World Tourism Organization, Yearbook of Tourism Statistics, Compendium of Tourism Statistics and data files.\n",
    "            - Thanks to Chanin Nantasenamat, for this amazing tutorial: https://blog.streamlit.io/crafting-a-dashboard-app-in-python-using-streamlit/\n",
    "            - :orange[**Gains/Losses**]: Countries with difference in tourism arrivals for selected year\n",
    "            - :orange[**Countries tourism**]: percentage of countries with annual inbound/ outbound tourism > 50,000\n",
    "            '''\n",
    "                )\n",
    "        "
   ]
  },
  {
   "cell_type": "code",
   "execution_count": 36,
   "id": "42dd7aed-f007-4ec3-8208-21f787c36eab",
   "metadata": {},
   "outputs": [
    {
     "name": "stderr",
     "output_type": "stream",
     "text": [
      "2025-02-23 11:46:06.864 Thread 'MainThread': missing ScriptRunContext! This warning can be ignored when running in bare mode.\n",
      "2025-02-23 11:46:06.865 Thread 'MainThread': missing ScriptRunContext! This warning can be ignored when running in bare mode.\n",
      "2025-02-23 11:46:07.014 Thread 'MainThread': missing ScriptRunContext! This warning can be ignored when running in bare mode.\n",
      "2025-02-23 11:46:07.014 Thread 'MainThread': missing ScriptRunContext! This warning can be ignored when running in bare mode.\n",
      "2025-02-23 11:46:07.014 Thread 'MainThread': missing ScriptRunContext! This warning can be ignored when running in bare mode.\n",
      "2025-02-23 11:46:07.014 Thread 'MainThread': missing ScriptRunContext! This warning can be ignored when running in bare mode.\n",
      "2025-02-23 11:46:07.025 Thread 'MainThread': missing ScriptRunContext! This warning can be ignored when running in bare mode.\n",
      "2025-02-23 11:46:07.025 Thread 'MainThread': missing ScriptRunContext! This warning can be ignored when running in bare mode.\n",
      "2025-02-23 11:46:07.026 Thread 'MainThread': missing ScriptRunContext! This warning can be ignored when running in bare mode.\n",
      "2025-02-23 11:46:07.026 Thread 'MainThread': missing ScriptRunContext! This warning can be ignored when running in bare mode.\n",
      "2025-02-23 11:46:07.099 Thread 'MainThread': missing ScriptRunContext! This warning can be ignored when running in bare mode.\n",
      "2025-02-23 11:46:07.099 Thread 'MainThread': missing ScriptRunContext! This warning can be ignored when running in bare mode.\n",
      "2025-02-23 11:46:07.099 Thread 'MainThread': missing ScriptRunContext! This warning can be ignored when running in bare mode.\n",
      "2025-02-23 11:46:07.099 Thread 'MainThread': missing ScriptRunContext! This warning can be ignored when running in bare mode.\n"
     ]
    }
   ],
   "source": [
    "#|export\n",
    "with col[1]:\n",
    "    st.markdown('#### Total Tourism')\n",
    "    \n",
    "    choropleth = make_choropleth(df_selected_year, 'Country Name', 'International tourism, number of arrivals', selected_color_theme)\n",
    "    st.plotly_chart(choropleth, use_container_width=True)\n",
    "    \n",
    "    heatmap = make_heatmap(complete_data, 'Year', 'Country Name', 'International tourism, number of arrivals', selected_color_theme)\n",
    "    st.altair_chart(heatmap, use_container_width=True)\n",
    "\n",
    "    st.markdown('#### Top countries that attract tourists')\n",
    "\n",
    "    line = make_line(top_inbound_data,'Year', 'Amount')\n",
    "    st.plotly_chart(line, use_container_width=True)"
   ]
  },
  {
   "cell_type": "code",
   "execution_count": 37,
   "id": "9ef31a97-d0a8-410b-b9af-935a68ecb993",
   "metadata": {},
   "outputs": [],
   "source": [
    "\n",
    "#with col[2]:\n",
    "    #st.markdown('#### Top Countries')\n",
    "\n",
    "    #st.dataframe(df_selected_year_sorted,\n",
    "                # column_order=(\"Country Name\", \"International tourism, number of arrivals\"),\n",
    "                # hide_index=True,\n",
    "                # width=None,\n",
    "                # column_config={\n",
    "                    #\"Country Name\": st.column_config.TextColumn(\n",
    "                       # \"Countries\",\n",
    "                  #  ),\n",
    "                   # \"International tourism, number of arrivals\": st.column_config.ProgressColumn(\n",
    "                       # \"Tourism arrivals\",\n",
    "                       # format=\"%f\",\n",
    "                       # min_value=0,\n",
    "                       # max_value=max(df_selected_year_sorted['International tourism, number of arrivals']),\n",
    "                     #)}\n",
    "                 #)\n",
    "    \n",
    "    #with st.expander('About', expanded=True):\n",
    "       # st.write('''\n",
    "           # - Data: World travel data.\n",
    "           # - :orange[**Gains/Losses**]: Countries with difference in tourism arrivals for selected year\n",
    "          #  - :orange[**Countries tourism**]: percentage of countries with annual inbound/ outbound tourism > 50,000\n",
    "           # ''')"
   ]
  },
  {
   "cell_type": "code",
   "execution_count": 38,
   "id": "5fd8aabe-91aa-4a1b-9d0d-c11000506750",
   "metadata": {},
   "outputs": [],
   "source": [
    "import nbdev\n",
    "notebook_name = \"Exploratory data analisys.ipynb\"\n",
    "export_destination = \".\" # the root directory\n",
    "nbdev.export.nb_export(notebook_name,export_destination, name = 'app')"
   ]
  },
  {
   "cell_type": "code",
   "execution_count": 39,
   "id": "b30a6ac7-892b-49e5-a1ac-2b06c4362141",
   "metadata": {},
   "outputs": [
    {
     "name": "stdout",
     "output_type": "stream",
     "text": [
      "\u001b[0m\n",
      "\u001b[34m\u001b[1m  You can now view your Streamlit app in your browser.\u001b[0m\n",
      "\u001b[0m\n",
      "\u001b[34m  Local URL: \u001b[0m\u001b[1mhttp://localhost:8501\u001b[0m\n",
      "\u001b[34m  Network URL: \u001b[0m\u001b[1mhttp://192.168.0.33:8501\u001b[0m\n",
      "\u001b[0m\n",
      "/Users/borja/Desktop/Desktop - Borja’s Mac mini/Portfolio/EDA/app.py:104: FutureWarning: Series.__getitem__ treating keys as positions is deprecated. In a future version, integer keys will always be treated as labels (consistent with DataFrame behavior). To access a value by position, use `ser.iloc[pos]`\n",
      "  amount = df['Indicator Name'][0]\n",
      "/Users/borja/Desktop/Desktop - Borja’s Mac mini/Portfolio/EDA/app.py:104: FutureWarning: Series.__getitem__ treating keys as positions is deprecated. In a future version, integer keys will always be treated as labels (consistent with DataFrame behavior). To access a value by position, use `ser.iloc[pos]`\n",
      "  amount = df['Indicator Name'][0]\n",
      "/Users/borja/Desktop/Desktop - Borja’s Mac mini/Portfolio/EDA/app.py:104: FutureWarning: Series.__getitem__ treating keys as positions is deprecated. In a future version, integer keys will always be treated as labels (consistent with DataFrame behavior). To access a value by position, use `ser.iloc[pos]`\n",
      "  amount = df['Indicator Name'][0]\n",
      "/Users/borja/Desktop/Desktop - Borja’s Mac mini/Portfolio/EDA/app.py:104: FutureWarning: Series.__getitem__ treating keys as positions is deprecated. In a future version, integer keys will always be treated as labels (consistent with DataFrame behavior). To access a value by position, use `ser.iloc[pos]`\n",
      "  amount = df['Indicator Name'][0]\n",
      "^C\n",
      "\u001b[34m  Stopping...\u001b[0m\n"
     ]
    }
   ],
   "source": [
    "! streamlit run app.py"
   ]
  },
  {
   "cell_type": "code",
   "execution_count": null,
   "id": "14ee9dad-131d-4f89-8183-18be8a9df06a",
   "metadata": {},
   "outputs": [],
   "source": []
  }
 ],
 "metadata": {
  "kernelspec": {
   "display_name": "Python [conda env:Kaggle] *",
   "language": "python",
   "name": "conda-env-Kaggle-py"
  },
  "language_info": {
   "codemirror_mode": {
    "name": "ipython",
    "version": 3
   },
   "file_extension": ".py",
   "mimetype": "text/x-python",
   "name": "python",
   "nbconvert_exporter": "python",
   "pygments_lexer": "ipython3",
   "version": "3.12.7"
  }
 },
 "nbformat": 4,
 "nbformat_minor": 5
}
