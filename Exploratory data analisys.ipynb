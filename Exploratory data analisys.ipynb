{
 "cells": [
  {
   "cell_type": "code",
   "execution_count": 2,
   "id": "7aac6ed3-9544-4ca9-a97f-9022f494684e",
   "metadata": {},
   "outputs": [],
   "source": [
    "#!pip install plotly_express"
   ]
  },
  {
   "cell_type": "code",
   "execution_count": 3,
   "id": "d593ae52-630e-4770-8a81-987e5af96894",
   "metadata": {},
   "outputs": [
    {
     "name": "stderr",
     "output_type": "stream",
     "text": [
      "2025-02-17 12:04:57.806 WARNING streamlit.runtime.scriptrunner_utils.script_run_context: Thread 'MainThread': missing ScriptRunContext! This warning can be ignored when running in bare mode.\n"
     ]
    }
   ],
   "source": [
    "#|export\n",
    "import pandas as pd \n",
    "import numpy as np \n",
    "import plotly \n",
    "import chart_studio.plotly as py\n",
    "import plotly.graph_objs as go\n",
    "import plotly_express as px\n",
    "import streamlit as st\n",
    "import altair as alt\n",
    "\n",
    "st.set_page_config(\n",
    "    page_title=\"World travel Data\",\n",
    "    page_icon=\"🌍\",\n",
    "    layout=\"wide\",\n",
    "    initial_sidebar_state=\"expanded\")\n",
    "\n",
    "\n",
    "\n",
    "pd.set_option(\"display.float.format\", lambda x: \"%.2f\" % x)"
   ]
  },
  {
   "cell_type": "code",
   "execution_count": 4,
   "id": "b2c75303-517e-466e-b0f5-7c32e9e0bb25",
   "metadata": {},
   "outputs": [],
   "source": [
    "#|export\n",
    "inbound_data = pd.read_excel('travel_data.xls', sheet_name=\"number_of_arrival\", header=3, index_col=0)\n",
    "#inbound_data.head()"
   ]
  },
  {
   "cell_type": "code",
   "execution_count": 5,
   "id": "a4bc42c7-8f62-4419-bdaa-6bd86066edc5",
   "metadata": {},
   "outputs": [],
   "source": [
    "#|export\n",
    "country_codes = pd.read_excel('travel_data.xls', sheet_name= 'country code')\n",
    "#country_codes.head()"
   ]
  },
  {
   "cell_type": "code",
   "execution_count": 6,
   "id": "98aabe90-8caa-44ee-96e2-4e64db196225",
   "metadata": {},
   "outputs": [],
   "source": [
    "#|export\n",
    "inbound_data = pd.merge(country_codes, inbound_data, left_on = \"Country Code\", right_on = \"Country Code\", how=\"left\")\n",
    "#inbound_data.head()"
   ]
  },
  {
   "cell_type": "code",
   "execution_count": 7,
   "id": "f1b94d46-ca3e-45c3-bb94-24b84ed37421",
   "metadata": {},
   "outputs": [],
   "source": [
    "#|export\n",
    "inbound_data = inbound_data.set_index(\"Country Name\")\n",
    "#inbound_data.head()"
   ]
  },
  {
   "cell_type": "code",
   "execution_count": 8,
   "id": "cbbcee2f-27d2-4204-b9a8-bb1be92c1cc2",
   "metadata": {},
   "outputs": [],
   "source": [
    "#|export\n",
    "#select columns from year 2007 to 2017\n",
    "new_inbound_data = pd.concat([inbound_data[\"Country Code\"],inbound_data.loc[:,\"2005\":\"2017\"]], axis=1)\n",
    "#new_inbound_data.head()"
   ]
  },
  {
   "cell_type": "code",
   "execution_count": 9,
   "id": "7881ab7b-3094-4f03-9d89-127f556cf547",
   "metadata": {},
   "outputs": [],
   "source": [
    "#|export\n",
    "#replace missing value by 0\n",
    "new_inbound_data = new_inbound_data.fillna(0)\n",
    "#new_inbound_data.head()"
   ]
  },
  {
   "cell_type": "code",
   "execution_count": 10,
   "id": "15fec619-94b7-408e-9881-6e7c848886a0",
   "metadata": {},
   "outputs": [],
   "source": [
    "#|export\n",
    "new_inbound_data.set_index([\"Country Code\"], inplace = True, append = True)\n",
    "#new_inbound_data.head()"
   ]
  },
  {
   "cell_type": "code",
   "execution_count": 11,
   "id": "1865324c-deba-4d3c-a9b1-5ad91cd1e35e",
   "metadata": {},
   "outputs": [],
   "source": [
    "#|export\n",
    "#use stack to change the data frame shape\n",
    "new_inbound_data = new_inbound_data.stack()\n",
    "#new_inbound_data.head()"
   ]
  },
  {
   "cell_type": "code",
   "execution_count": 12,
   "id": "8932857c-d2d7-4add-b0c9-4771ba3880d9",
   "metadata": {},
   "outputs": [],
   "source": [
    "#|export\n",
    "new_inbound_data = pd.DataFrame(new_inbound_data)\n",
    "#new_inbound_data.head()"
   ]
  },
  {
   "cell_type": "code",
   "execution_count": 13,
   "id": "8a5daeca-cac8-4f1f-8cf5-718c1efd035c",
   "metadata": {},
   "outputs": [],
   "source": [
    "#|export\n",
    "new_inbound_data = new_inbound_data.reset_index()\n",
    "#new_inbound_data.head()"
   ]
  },
  {
   "cell_type": "code",
   "execution_count": 14,
   "id": "9060766e-9848-4000-a466-d30df39a0c15",
   "metadata": {},
   "outputs": [],
   "source": [
    "#|export\n",
    "#rename column names\n",
    "new_inbound_data= new_inbound_data.rename(columns = {\"level_2\":\"Year\",0:\"Amount\"})\n",
    "#new_inbound_data.head()"
   ]
  },
  {
   "cell_type": "code",
   "execution_count": 15,
   "id": "4b0f7b4c-5356-4dd0-b79b-e812cea5b5ab",
   "metadata": {},
   "outputs": [
    {
     "data": {
      "text/html": [
       "<iframe\n",
       "    scrolling=\"no\"\n",
       "    width=\"2020px\"\n",
       "    height=\"1020\"\n",
       "    src=\"iframe_figures/figure_15.html\"\n",
       "    frameborder=\"0\"\n",
       "    allowfullscreen\n",
       "></iframe>\n"
      ]
     },
     "metadata": {},
     "output_type": "display_data"
    }
   ],
   "source": [
    "\n",
    "inbound_map = px.choropleth(new_inbound_data, \n",
    "                            locations=\"Country Code\", \n",
    "                            color=\"Amount\", \n",
    "                            hover_name=\"Country Name\",\n",
    "                            #set the animation slide bar\n",
    "                            animation_frame=\"Year\",\n",
    "                            color_continuous_scale=px.colors.sequential.BuGn,\n",
    "                            #set the map type\n",
    "                            projection=\"natural earth\",\n",
    "                            width = 2000, \n",
    "                            height= 1000)\n",
    "inbound_map.show(renderer='iframe')"
   ]
  },
  {
   "cell_type": "code",
   "execution_count": 16,
   "id": "4da8a44e-c668-4fef-9a63-7ac920dd7ef7",
   "metadata": {},
   "outputs": [],
   "source": [
    "#|export\n",
    "#find the top countries that attract tourists\n",
    "top_inbound = inbound_data.sort_values(\"2017\", ascending=False).head(10)\n",
    "top_inbound_list = list(top_inbound.index)\n",
    "top_inbound_list\n",
    "\n",
    "\n",
    "# In[11]:\n",
    "\n",
    "\n",
    "#select the top countries' data \n",
    "top_inbound_data = new_inbound_data.loc[new_inbound_data[\"Country Name\"].isin(top_inbound_list)]\n",
    "#top_inbound_data.head()"
   ]
  },
  {
   "cell_type": "code",
   "execution_count": 17,
   "id": "66638446-baaf-4f7a-840a-0f9ed93ed6fb",
   "metadata": {},
   "outputs": [
    {
     "data": {
      "text/html": [
       "<iframe\n",
       "    scrolling=\"no\"\n",
       "    width=\"100%\"\n",
       "    height=\"545px\"\n",
       "    src=\"iframe_figures/figure_17.html\"\n",
       "    frameborder=\"0\"\n",
       "    allowfullscreen\n",
       "></iframe>\n"
      ]
     },
     "metadata": {},
     "output_type": "display_data"
    }
   ],
   "source": [
    "\n",
    "inbound_top = px.line(top_inbound_data, \n",
    "                      x=\"Year\", \n",
    "                      y=\"Amount\", \n",
    "                      color=\"Country Name\", \n",
    "                      line_group=\"Country Name\",  \n",
    "                      line_shape=\"linear\", \n",
    "                      title=\"Top countries that attract tourists\")\n",
    "inbound_top.show(renderer='iframe')"
   ]
  },
  {
   "cell_type": "code",
   "execution_count": 18,
   "id": "27ee1b39-e7a0-456d-aae5-3783405503bc",
   "metadata": {},
   "outputs": [],
   "source": [
    "#|export\n",
    "#importing all data  \n",
    "\n",
    "inbound = pd.read_excel('travel_data.xls', sheet_name=\"number_of_arrival\", header=3, index_col=0)\n",
    "outbound = pd.read_excel('travel_data.xls', sheet_name=\"number_of_departure\", header=3, index_col=0)\n",
    "population = pd.read_excel('travel_data.xls', sheet_name=\"population\", header=3, index_col=0)\n",
    "GDP = pd.read_excel('travel_data.xls', sheet_name=\"GDP\", header=3, index_col=0)\n",
    "country_names = pd.read_excel('travel_data.xls', sheet_name= 'country code')\n",
    "\n"
   ]
  },
  {
   "cell_type": "code",
   "execution_count": 19,
   "id": "0c9c731c-dcc9-43f5-832c-34ddf73bba08",
   "metadata": {},
   "outputs": [
    {
     "name": "stderr",
     "output_type": "stream",
     "text": [
      "/var/folders/4y/67_mnd3d1qj8_bphj56jl1200000gn/T/ipykernel_95676/1022752012.py:4: FutureWarning:\n",
      "\n",
      "Series.__getitem__ treating keys as positions is deprecated. In a future version, integer keys will always be treated as labels (consistent with DataFrame behavior). To access a value by position, use `ser.iloc[pos]`\n",
      "\n"
     ]
    }
   ],
   "source": [
    "#|export\n",
    "#select only the relevant columns 2005 to 2017\n",
    "def select_data(df):\n",
    "    amount = df['Indicator Name'][0]\n",
    "    df = pd.merge(country_names, df, left_on = 'Country Code', right_on = 'Country Code', how = 'left')\n",
    "    df = df.set_index('Country Name')\n",
    "    df = pd.concat([df['Country Code'],df.loc[:,'2005':'2017']], axis=1)\n",
    "    df = df.fillna(0)\n",
    "    df = df.set_index([\"Country Code\"], append = True)\n",
    "    df = df.stack()\n",
    "    df = pd.DataFrame(df)\n",
    "    df = df.reset_index()\n",
    "    df = df.rename(columns = {\"level_2\":\"Year\", 0:amount})\n",
    "    return df\n",
    "inbound = select_data(inbound)\n",
    "#inbound.head()\n",
    "    \n",
    "                              "
   ]
  },
  {
   "cell_type": "code",
   "execution_count": 20,
   "id": "74b2e12d-1ba0-48e2-a59e-8171e5874865",
   "metadata": {},
   "outputs": [
    {
     "name": "stderr",
     "output_type": "stream",
     "text": [
      "/var/folders/4y/67_mnd3d1qj8_bphj56jl1200000gn/T/ipykernel_95676/1022752012.py:4: FutureWarning:\n",
      "\n",
      "Series.__getitem__ treating keys as positions is deprecated. In a future version, integer keys will always be treated as labels (consistent with DataFrame behavior). To access a value by position, use `ser.iloc[pos]`\n",
      "\n"
     ]
    }
   ],
   "source": [
    "#|export\n",
    "outbound = select_data(outbound)\n",
    "#outbound.head()"
   ]
  },
  {
   "cell_type": "code",
   "execution_count": 21,
   "id": "2f4e73f0-2bef-4572-bfe0-0089aada5c10",
   "metadata": {},
   "outputs": [
    {
     "name": "stderr",
     "output_type": "stream",
     "text": [
      "/var/folders/4y/67_mnd3d1qj8_bphj56jl1200000gn/T/ipykernel_95676/1022752012.py:4: FutureWarning:\n",
      "\n",
      "Series.__getitem__ treating keys as positions is deprecated. In a future version, integer keys will always be treated as labels (consistent with DataFrame behavior). To access a value by position, use `ser.iloc[pos]`\n",
      "\n"
     ]
    }
   ],
   "source": [
    "#|export\n",
    "population = select_data(population)\n",
    "#population.head()"
   ]
  },
  {
   "cell_type": "code",
   "execution_count": 22,
   "id": "11a549ec-eb1c-41df-a5cc-c09bc5763d29",
   "metadata": {},
   "outputs": [
    {
     "name": "stderr",
     "output_type": "stream",
     "text": [
      "/var/folders/4y/67_mnd3d1qj8_bphj56jl1200000gn/T/ipykernel_95676/1022752012.py:4: FutureWarning:\n",
      "\n",
      "Series.__getitem__ treating keys as positions is deprecated. In a future version, integer keys will always be treated as labels (consistent with DataFrame behavior). To access a value by position, use `ser.iloc[pos]`\n",
      "\n"
     ]
    }
   ],
   "source": [
    "#|export\n",
    "GDP = select_data(GDP)\n",
    "#GDP.head()"
   ]
  },
  {
   "cell_type": "code",
   "execution_count": 23,
   "id": "b76b03bc-fcb9-49bc-939b-9eaa7af36ce2",
   "metadata": {},
   "outputs": [],
   "source": [
    "#|export\n",
    "complete_data = inbound.merge(outbound)\n",
    "#complete_data.head()"
   ]
  },
  {
   "cell_type": "code",
   "execution_count": 24,
   "id": "418ee236-d461-4fee-994a-cf16039b2dc5",
   "metadata": {},
   "outputs": [],
   "source": [
    "#|export\n",
    "complete_data = complete_data.merge(population) \n",
    "#complete_data.head()"
   ]
  },
  {
   "cell_type": "code",
   "execution_count": 25,
   "id": "9b2c2792-7a4f-4fc2-9888-9aee828dc2fb",
   "metadata": {},
   "outputs": [],
   "source": [
    "#|export\n",
    "complete_data = complete_data.merge(GDP)\n",
    "#complete_data.head()"
   ]
  },
  {
   "cell_type": "code",
   "execution_count": 26,
   "id": "1c16e732-6ca0-4881-b346-8e8a6dc7fb1a",
   "metadata": {},
   "outputs": [],
   "source": [
    "#|export\n",
    "complete_data.Year = complete_data.Year.astype('int64')"
   ]
  },
  {
   "cell_type": "code",
   "execution_count": 27,
   "id": "ad5cff1c-4ade-4143-9534-d85b2015333d",
   "metadata": {},
   "outputs": [
    {
     "data": {
      "text/plain": [
       "ThemeRegistry.enable('dark')"
      ]
     },
     "execution_count": 27,
     "metadata": {},
     "output_type": "execute_result"
    }
   ],
   "source": [
    "#|export\n",
    "\n",
    "alt.theme.enable(\"dark\")"
   ]
  },
  {
   "cell_type": "code",
   "execution_count": 28,
   "id": "8d9fd495-b25f-473c-a6a5-38b7436fecf5",
   "metadata": {},
   "outputs": [
    {
     "name": "stderr",
     "output_type": "stream",
     "text": [
      "2025-02-17 12:04:58.372 WARNING streamlit.runtime.scriptrunner_utils.script_run_context: Thread 'MainThread': missing ScriptRunContext! This warning can be ignored when running in bare mode.\n",
      "2025-02-17 12:04:58.470 \n",
      "  \u001b[33m\u001b[1mWarning:\u001b[0m to view this Streamlit app on a browser, run it with the following\n",
      "  command:\n",
      "\n",
      "    streamlit run /Users/borja/anaconda3/envs/Kaggle/lib/python3.12/site-packages/ipykernel_launcher.py [ARGUMENTS]\n",
      "2025-02-17 12:04:58.471 Thread 'MainThread': missing ScriptRunContext! This warning can be ignored when running in bare mode.\n",
      "2025-02-17 12:04:58.471 Thread 'MainThread': missing ScriptRunContext! This warning can be ignored when running in bare mode.\n",
      "2025-02-17 12:04:58.471 Thread 'MainThread': missing ScriptRunContext! This warning can be ignored when running in bare mode.\n",
      "2025-02-17 12:04:58.472 Thread 'MainThread': missing ScriptRunContext! This warning can be ignored when running in bare mode.\n",
      "2025-02-17 12:04:58.472 Thread 'MainThread': missing ScriptRunContext! This warning can be ignored when running in bare mode.\n",
      "2025-02-17 12:04:58.472 Session state does not function when running a script without `streamlit run`\n",
      "2025-02-17 12:04:58.472 Thread 'MainThread': missing ScriptRunContext! This warning can be ignored when running in bare mode.\n",
      "2025-02-17 12:04:58.473 Thread 'MainThread': missing ScriptRunContext! This warning can be ignored when running in bare mode.\n",
      "2025-02-17 12:04:58.474 Thread 'MainThread': missing ScriptRunContext! This warning can be ignored when running in bare mode.\n",
      "2025-02-17 12:04:58.474 Thread 'MainThread': missing ScriptRunContext! This warning can be ignored when running in bare mode.\n",
      "2025-02-17 12:04:58.474 Thread 'MainThread': missing ScriptRunContext! This warning can be ignored when running in bare mode.\n",
      "2025-02-17 12:04:58.474 Thread 'MainThread': missing ScriptRunContext! This warning can be ignored when running in bare mode.\n",
      "2025-02-17 12:04:58.475 Thread 'MainThread': missing ScriptRunContext! This warning can be ignored when running in bare mode.\n",
      "2025-02-17 12:04:58.475 Thread 'MainThread': missing ScriptRunContext! This warning can be ignored when running in bare mode.\n"
     ]
    }
   ],
   "source": [
    "#|export\n",
    "with st.sidebar:\n",
    "    st.title('World travel Dashboard')\n",
    "    \n",
    "    year_list = list(complete_data.Year.unique())[::-1]\n",
    "    \n",
    "    selected_year = st.selectbox('Select a year', year_list, index=len(year_list)-1)\n",
    "    df_selected_year = complete_data[complete_data.Year == selected_year]\n",
    "    df_selected_year_sorted = df_selected_year.sort_values(by=\"International tourism, number of arrivals\", ascending=False)\n",
    "\n",
    "    color_theme_list = ['blues', 'cividis', 'greens', 'inferno', 'magma', 'plasma', 'reds', 'rainbow', 'turbo', 'viridis']\n",
    "    selected_color_theme = st.selectbox('Select a color theme', color_theme_list)"
   ]
  },
  {
   "cell_type": "code",
   "execution_count": 29,
   "id": "ac76d73c-fff2-4ca4-bcfa-d58a1472962b",
   "metadata": {},
   "outputs": [],
   "source": [
    "#|export\n",
    "def make_heatmap(input_df, input_y, input_x, input_color, input_color_theme):\n",
    "    heatmap = alt.Chart(input_df).mark_rect().encode(\n",
    "            y=alt.Y(f'{input_y}:O', axis=alt.Axis(title=\"Year\", titleFontSize=18, titlePadding=15, titleFontWeight=900, labelAngle=0)),\n",
    "            x=alt.X(f'{input_x}:O', axis=alt.Axis(title=\"\", titleFontSize=18, titlePadding=15, titleFontWeight=900)),\n",
    "            color=alt.Color(f'max({input_color}):Q',\n",
    "                             legend=None,\n",
    "                             scale=alt.Scale(scheme=input_color_theme)),\n",
    "            stroke=alt.value('black'),\n",
    "            strokeWidth=alt.value(0.25),\n",
    "        ).properties(width=900\n",
    "        ).configure_axis(\n",
    "        labelFontSize=12,\n",
    "        titleFontSize=12\n",
    "        ) \n",
    "    # height=300\n",
    "    return heatmap"
   ]
  },
  {
   "cell_type": "code",
   "execution_count": 30,
   "id": "fe2adb07-ad83-4575-8ca1-149f62779c19",
   "metadata": {},
   "outputs": [],
   "source": [
    "#|export\n",
    "def make_choropleth(input_df, input_id, input_column, input_color_theme):\n",
    "    choropleth = px.choropleth(input_df, locations=input_id, color=input_column, locationmode=\"country names\",\n",
    "                               color_continuous_scale=input_color_theme,\n",
    "                               range_color=(0, max(df_selected_year['International tourism, number of arrivals'])),\n",
    "                               scope=\"world\",\n",
    "                               labels={'International tourism, number of arrivals':'International arrivals'}\n",
    "                              )\n",
    "    choropleth.update_layout(\n",
    "        template='plotly_dark',\n",
    "        plot_bgcolor='rgba(0, 0, 0, 0)',\n",
    "        paper_bgcolor='rgba(0, 0, 0, 0)',\n",
    "        margin=dict(l=0, r=0, t=0, b=0),\n",
    "        height=350\n",
    "    )\n",
    "    return choropleth"
   ]
  },
  {
   "cell_type": "code",
   "execution_count": 31,
   "id": "53229a15-1de4-42a8-a432-e9b4ef47b537",
   "metadata": {},
   "outputs": [],
   "source": [
    "#|export\n",
    "def calculate_arrivals_difference(input_df, input_year):\n",
    "  selected_year_data = input_df[input_df['Year'] == input_year].reset_index()\n",
    "  previous_year_data = input_df[input_df['Year'] == input_year - 1].reset_index()\n",
    "  selected_year_data['incoming_difference'] = selected_year_data['International tourism, number of arrivals'].sub(previous_year_data['International tourism, number of arrivals'], fill_value=0)\n",
    "  return pd.concat([selected_year_data['Country Name'], selected_year_data['Country Code'],selected_year_data['International tourism, number of arrivals'], selected_year_data['incoming_difference']], axis=1).sort_values(by=\"incoming_difference\", ascending=False)\n",
    "\n",
    "    "
   ]
  },
  {
   "cell_type": "code",
   "execution_count": 32,
   "id": "8ca38535-1d5b-47d2-bda2-b7e2a5f583c7",
   "metadata": {},
   "outputs": [],
   "source": [
    "#|export\n",
    "def make_donut(input_response, input_text, input_color):\n",
    "  if input_color == 'blue':\n",
    "      chart_color = ['#29b5e8', '#155F7A']\n",
    "  if input_color == 'green':\n",
    "      chart_color = ['#27AE60', '#12783D']\n",
    "  if input_color == 'orange':\n",
    "      chart_color = ['#F39C12', '#875A12']\n",
    "  if input_color == 'red':\n",
    "      chart_color = ['#E74C3C', '#781F16']\n",
    "    \n",
    "  source = pd.DataFrame({\n",
    "      \"Topic\": ['', input_text],\n",
    "      \"% value\": [100-input_response, input_response]\n",
    "  })\n",
    "  source_bg = pd.DataFrame({\n",
    "      \"Topic\": ['', input_text],\n",
    "      \"% value\": [100, 0]\n",
    "  })\n",
    "    \n",
    "  plot = alt.Chart(source).mark_arc(innerRadius=45, cornerRadius=25).encode(\n",
    "      theta=\"% value\",\n",
    "      color= alt.Color(\"Topic:N\",\n",
    "                      scale=alt.Scale(\n",
    "                          #domain=['A', 'B'],\n",
    "                          domain=[input_text, ''],\n",
    "                          # range=['#29b5e8', '#155F7A']),  # 31333F\n",
    "                          range=chart_color),\n",
    "                      legend=None),\n",
    "  ).properties(width=130, height=130)\n",
    "    \n",
    "  text = plot.mark_text(align='center', color=\"#29b5e8\", font=\"Lato\", fontSize=32, fontWeight=700, fontStyle=\"italic\").encode(text=alt.value(f'{input_response} %'))\n",
    "  plot_bg = alt.Chart(source_bg).mark_arc(innerRadius=45, cornerRadius=20).encode(\n",
    "      theta=\"% value\",\n",
    "      color= alt.Color(\"Topic:N\",\n",
    "                      scale=alt.Scale(\n",
    "                          # domain=['A', 'B'],\n",
    "                          domain=[input_text, ''],\n",
    "                          range=chart_color),  # 31333F\n",
    "                      legend=None),\n",
    "  ).properties(width=130, height=130)\n",
    "  return plot_bg + plot + text"
   ]
  },
  {
   "cell_type": "code",
   "execution_count": 33,
   "id": "17385a00-8eb9-45ea-af0f-a03b5aed1906",
   "metadata": {},
   "outputs": [],
   "source": [
    "#|export\n",
    "def format_number(num):\n",
    "    if num > 1000000:\n",
    "        if not num % 1000000:\n",
    "            return f'{num // 1000000} M'\n",
    "        return f'{round(num / 1000000, 1)} M'\n",
    "    return f'{num // 1000} K'"
   ]
  },
  {
   "cell_type": "code",
   "execution_count": 34,
   "id": "c6d50d97-e556-44a1-b389-10e240210cdd",
   "metadata": {},
   "outputs": [
    {
     "name": "stderr",
     "output_type": "stream",
     "text": [
      "2025-02-17 12:04:58.497 Thread 'MainThread': missing ScriptRunContext! This warning can be ignored when running in bare mode.\n",
      "2025-02-17 12:04:58.499 Thread 'MainThread': missing ScriptRunContext! This warning can be ignored when running in bare mode.\n",
      "2025-02-17 12:04:58.499 Thread 'MainThread': missing ScriptRunContext! This warning can be ignored when running in bare mode.\n",
      "2025-02-17 12:04:58.499 Thread 'MainThread': missing ScriptRunContext! This warning can be ignored when running in bare mode.\n"
     ]
    }
   ],
   "source": [
    "#|export\n",
    "col = st.columns((1.5, 4.5, 2), gap='medium')"
   ]
  },
  {
   "cell_type": "code",
   "execution_count": 35,
   "id": "3b899877-57b6-478d-8295-1beb6f3897bf",
   "metadata": {},
   "outputs": [
    {
     "name": "stderr",
     "output_type": "stream",
     "text": [
      "2025-02-17 12:04:58.504 Thread 'MainThread': missing ScriptRunContext! This warning can be ignored when running in bare mode.\n",
      "2025-02-17 12:04:58.505 Thread 'MainThread': missing ScriptRunContext! This warning can be ignored when running in bare mode.\n",
      "2025-02-17 12:04:58.508 Thread 'MainThread': missing ScriptRunContext! This warning can be ignored when running in bare mode.\n",
      "2025-02-17 12:04:58.508 Thread 'MainThread': missing ScriptRunContext! This warning can be ignored when running in bare mode.\n",
      "2025-02-17 12:04:58.508 Thread 'MainThread': missing ScriptRunContext! This warning can be ignored when running in bare mode.\n",
      "2025-02-17 12:04:58.508 Thread 'MainThread': missing ScriptRunContext! This warning can be ignored when running in bare mode.\n",
      "2025-02-17 12:04:58.508 Thread 'MainThread': missing ScriptRunContext! This warning can be ignored when running in bare mode.\n",
      "2025-02-17 12:04:58.509 Thread 'MainThread': missing ScriptRunContext! This warning can be ignored when running in bare mode.\n",
      "2025-02-17 12:04:58.528 Thread 'MainThread': missing ScriptRunContext! This warning can be ignored when running in bare mode.\n",
      "2025-02-17 12:04:58.529 Thread 'MainThread': missing ScriptRunContext! This warning can be ignored when running in bare mode.\n",
      "2025-02-17 12:04:58.529 Thread 'MainThread': missing ScriptRunContext! This warning can be ignored when running in bare mode.\n",
      "2025-02-17 12:04:58.529 Thread 'MainThread': missing ScriptRunContext! This warning can be ignored when running in bare mode.\n",
      "2025-02-17 12:04:58.529 Thread 'MainThread': missing ScriptRunContext! This warning can be ignored when running in bare mode.\n",
      "2025-02-17 12:04:58.529 Thread 'MainThread': missing ScriptRunContext! This warning can be ignored when running in bare mode.\n",
      "2025-02-17 12:04:58.530 Thread 'MainThread': missing ScriptRunContext! This warning can be ignored when running in bare mode.\n",
      "2025-02-17 12:04:58.530 Thread 'MainThread': missing ScriptRunContext! This warning can be ignored when running in bare mode.\n",
      "2025-02-17 12:04:58.549 Thread 'MainThread': missing ScriptRunContext! This warning can be ignored when running in bare mode.\n",
      "2025-02-17 12:04:58.550 Thread 'MainThread': missing ScriptRunContext! This warning can be ignored when running in bare mode.\n",
      "2025-02-17 12:04:58.550 Thread 'MainThread': missing ScriptRunContext! This warning can be ignored when running in bare mode.\n",
      "2025-02-17 12:04:58.550 Thread 'MainThread': missing ScriptRunContext! This warning can be ignored when running in bare mode.\n",
      "2025-02-17 12:04:58.551 Thread 'MainThread': missing ScriptRunContext! This warning can be ignored when running in bare mode.\n",
      "2025-02-17 12:04:58.551 Thread 'MainThread': missing ScriptRunContext! This warning can be ignored when running in bare mode.\n",
      "2025-02-17 12:04:58.558 Thread 'MainThread': missing ScriptRunContext! This warning can be ignored when running in bare mode.\n",
      "2025-02-17 12:04:58.558 Thread 'MainThread': missing ScriptRunContext! This warning can be ignored when running in bare mode.\n"
     ]
    }
   ],
   "source": [
    "#|export\n",
    "with col[0]:\n",
    "    st.markdown('#### Gains/Losses')\n",
    "\n",
    "    df_arrivals_difference_sorted = calculate_arrivals_difference(complete_data, selected_year)\n",
    "\n",
    "    if selected_year > 2010:\n",
    "        first_country_name = df_arrivals_difference_sorted['Country Name'].iloc[0]\n",
    "        first_country_arrivals = format_number(df_arrivals_difference_sorted['International tourism, number of arrivals'].iloc[0])\n",
    "        first_country_delta = format_number(df_arrivals_difference_sorted.incoming_difference.iloc[0])\n",
    "    else:\n",
    "        first_country_name = '-'\n",
    "        first_country_arrivals = '-'\n",
    "        first_country_delta = ''\n",
    "    st.metric(label=first_country_name, value=first_country_arrivals, delta=first_country_delta)\n",
    "\n",
    "    if selected_year > 2010:\n",
    "        last_country_name = df_arrivals_difference_sorted['Country Name'].iloc[-1]\n",
    "        last_country_arrivals = format_number(df_arrivals_difference_sorted['International tourism, number of arrivals'].iloc[-1])   \n",
    "        last_country_delta = format_number(df_arrivals_difference_sorted.incoming_difference.iloc[-1])   \n",
    "    else:\n",
    "        last_country_name = '-'\n",
    "        last_country_arrivals = '-'\n",
    "        last_country_delta = ''\n",
    "    st.metric(label=last_country_name, value=last_country_arrivals, delta=last_country_delta)\n",
    "\n",
    "    \n",
    "    st.markdown('#### Countries Tourism')\n",
    "\n",
    "    if selected_year > 2010:\n",
    "        # Filter countries with arrivals difference > 50000\n",
    "        # df_greater_50000 = df_population_difference_sorted[df_population_difference_sorted.population_difference_absolute > 50000]\n",
    "        df_greater_50000 = df_arrivals_difference_sorted[df_arrivals_difference_sorted.incoming_difference > 50000]\n",
    "        df_less_50000 = df_arrivals_difference_sorted[df_arrivals_difference_sorted.incoming_difference < -50000]\n",
    "        \n",
    "        # % of Countries with arrivals difference > 50000\n",
    "        countries_tourism_greater = round((len(df_greater_50000)/df_arrivals_difference_sorted['Country Name'].nunique())*100)\n",
    "        countries_tourism_less = round((len(df_less_50000)/df_arrivals_difference_sorted['Country Name'].nunique())*100)\n",
    "        donut_chart_greater = make_donut(countries_tourism_greater, 'Tourism increased', 'green')\n",
    "        donut_chart_less = make_donut(countries_tourism_less, 'Tourism decreased', 'red')\n",
    "    else:\n",
    "        countries_tourism_greater = 0\n",
    "        countries_tourism_less = 0\n",
    "        donut_chart_greater = make_donut(countries_tourism_greater, 'Tourism increased', 'green')\n",
    "        donut_chart_less = make_donut(countries_tourism_less, 'Tourism decreased', 'red')\n",
    "\n",
    "    tourism_col = st.columns((0.2, 1, 0.2))\n",
    "    with tourism_col[1]:\n",
    "        st.write('Increased')\n",
    "        st.altair_chart(donut_chart_greater)\n",
    "        st.write('Decreased')\n",
    "        st.altair_chart(donut_chart_less)"
   ]
  },
  {
   "cell_type": "code",
   "execution_count": 36,
   "id": "42dd7aed-f007-4ec3-8208-21f787c36eab",
   "metadata": {},
   "outputs": [
    {
     "name": "stderr",
     "output_type": "stream",
     "text": [
      "2025-02-17 12:04:58.562 Thread 'MainThread': missing ScriptRunContext! This warning can be ignored when running in bare mode.\n",
      "2025-02-17 12:04:58.563 Thread 'MainThread': missing ScriptRunContext! This warning can be ignored when running in bare mode.\n",
      "2025-02-17 12:04:58.673 Thread 'MainThread': missing ScriptRunContext! This warning can be ignored when running in bare mode.\n",
      "2025-02-17 12:04:58.674 Thread 'MainThread': missing ScriptRunContext! This warning can be ignored when running in bare mode.\n",
      "2025-02-17 12:04:58.674 Thread 'MainThread': missing ScriptRunContext! This warning can be ignored when running in bare mode.\n",
      "2025-02-17 12:04:58.674 Thread 'MainThread': missing ScriptRunContext! This warning can be ignored when running in bare mode.\n",
      "2025-02-17 12:04:58.685 Thread 'MainThread': missing ScriptRunContext! This warning can be ignored when running in bare mode.\n",
      "2025-02-17 12:04:58.685 Thread 'MainThread': missing ScriptRunContext! This warning can be ignored when running in bare mode.\n"
     ]
    }
   ],
   "source": [
    "#|export\n",
    "with col[1]:\n",
    "    st.markdown('#### Total Tourism')\n",
    "    \n",
    "    choropleth = make_choropleth(df_selected_year, 'Country Name', 'International tourism, number of arrivals', selected_color_theme)\n",
    "    st.plotly_chart(choropleth, use_container_width=True)\n",
    "    \n",
    "    heatmap = make_heatmap(complete_data, 'Year', 'Country Name', 'International tourism, number of arrivals', selected_color_theme)\n",
    "    st.altair_chart(heatmap, use_container_width=True)"
   ]
  },
  {
   "cell_type": "code",
   "execution_count": 37,
   "id": "9ef31a97-d0a8-410b-b9af-935a68ecb993",
   "metadata": {},
   "outputs": [
    {
     "name": "stderr",
     "output_type": "stream",
     "text": [
      "2025-02-17 12:04:58.689 Thread 'MainThread': missing ScriptRunContext! This warning can be ignored when running in bare mode.\n",
      "2025-02-17 12:04:58.690 Thread 'MainThread': missing ScriptRunContext! This warning can be ignored when running in bare mode.\n",
      "2025-02-17 12:04:58.692 Thread 'MainThread': missing ScriptRunContext! This warning can be ignored when running in bare mode.\n",
      "2025-02-17 12:04:58.692 Thread 'MainThread': missing ScriptRunContext! This warning can be ignored when running in bare mode.\n",
      "2025-02-17 12:04:58.692 Thread 'MainThread': missing ScriptRunContext! This warning can be ignored when running in bare mode.\n",
      "2025-02-17 12:04:58.692 Thread 'MainThread': missing ScriptRunContext! This warning can be ignored when running in bare mode.\n",
      "2025-02-17 12:04:58.693 Thread 'MainThread': missing ScriptRunContext! This warning can be ignored when running in bare mode.\n",
      "2025-02-17 12:04:58.693 Thread 'MainThread': missing ScriptRunContext! This warning can be ignored when running in bare mode.\n",
      "2025-02-17 12:04:58.693 Thread 'MainThread': missing ScriptRunContext! This warning can be ignored when running in bare mode.\n"
     ]
    }
   ],
   "source": [
    "#|export\n",
    "with col[2]:\n",
    "    st.markdown('#### Top Countries')\n",
    "\n",
    "    st.dataframe(df_selected_year_sorted,\n",
    "                 column_order=(\"Country Name\", \"International tourism, number of arrivals\"),\n",
    "                 hide_index=True,\n",
    "                 width=None,\n",
    "                 column_config={\n",
    "                    \"Country Name\": st.column_config.TextColumn(\n",
    "                        \"Countries\",\n",
    "                    ),\n",
    "                    \"International tourism, number of arrivals\": st.column_config.ProgressColumn(\n",
    "                        \"Tourism arrivals\",\n",
    "                        format=\"%f\",\n",
    "                        min_value=0,\n",
    "                        max_value=max(df_selected_year_sorted['International tourism, number of arrivals']),\n",
    "                     )}\n",
    "                 )\n",
    "    \n",
    "    with st.expander('About', expanded=True):\n",
    "        st.write('''\n",
    "            - Data: World travel data.\n",
    "            - :orange[**Gains/Losses**]: Countries with difference in tourism arrivals for selected year\n",
    "            - :orange[**Countries tourism**]: percentage of countries with annual inbound/ outbound tourism > 50,000\n",
    "            ''')"
   ]
  },
  {
   "cell_type": "code",
   "execution_count": 38,
   "id": "5fd8aabe-91aa-4a1b-9d0d-c11000506750",
   "metadata": {},
   "outputs": [],
   "source": [
    "import nbdev\n",
    "notebook_name = \"Exploratory data analisys.ipynb\"\n",
    "export_destination = \".\" # the root directory\n",
    "nbdev.export.nb_export(notebook_name,export_destination, name = 'app')"
   ]
  },
  {
   "cell_type": "code",
   "execution_count": 39,
   "id": "b30a6ac7-892b-49e5-a1ac-2b06c4362141",
   "metadata": {},
   "outputs": [
    {
     "name": "stdout",
     "output_type": "stream",
     "text": [
      "\u001b[0m\n",
      "\u001b[34m\u001b[1m  You can now view your Streamlit app in your browser.\u001b[0m\n",
      "\u001b[0m\n",
      "\u001b[34m  Local URL: \u001b[0m\u001b[1mhttp://localhost:8501\u001b[0m\n",
      "\u001b[34m  Network URL: \u001b[0m\u001b[1mhttp://192.168.0.33:8501\u001b[0m\n",
      "\u001b[0m\n",
      "/Users/borja/Desktop/Desktop - Borja’s Mac mini/Portfolio/EDA/app.py:41: FutureWarning: Series.__getitem__ treating keys as positions is deprecated. In a future version, integer keys will always be treated as labels (consistent with DataFrame behavior). To access a value by position, use `ser.iloc[pos]`\n",
      "  amount = df['Indicator Name'][0]\n",
      "/Users/borja/Desktop/Desktop - Borja’s Mac mini/Portfolio/EDA/app.py:41: FutureWarning: Series.__getitem__ treating keys as positions is deprecated. In a future version, integer keys will always be treated as labels (consistent with DataFrame behavior). To access a value by position, use `ser.iloc[pos]`\n",
      "  amount = df['Indicator Name'][0]\n",
      "/Users/borja/Desktop/Desktop - Borja’s Mac mini/Portfolio/EDA/app.py:41: FutureWarning: Series.__getitem__ treating keys as positions is deprecated. In a future version, integer keys will always be treated as labels (consistent with DataFrame behavior). To access a value by position, use `ser.iloc[pos]`\n",
      "  amount = df['Indicator Name'][0]\n",
      "/Users/borja/Desktop/Desktop - Borja’s Mac mini/Portfolio/EDA/app.py:41: FutureWarning: Series.__getitem__ treating keys as positions is deprecated. In a future version, integer keys will always be treated as labels (consistent with DataFrame behavior). To access a value by position, use `ser.iloc[pos]`\n",
      "  amount = df['Indicator Name'][0]\n",
      "/Users/borja/Desktop/Desktop - Borja’s Mac mini/Portfolio/EDA/app.py:41: FutureWarning:\n",
      "\n",
      "Series.__getitem__ treating keys as positions is deprecated. In a future version, integer keys will always be treated as labels (consistent with DataFrame behavior). To access a value by position, use `ser.iloc[pos]`\n",
      "\n",
      "/Users/borja/Desktop/Desktop - Borja’s Mac mini/Portfolio/EDA/app.py:41: FutureWarning:\n",
      "\n",
      "Series.__getitem__ treating keys as positions is deprecated. In a future version, integer keys will always be treated as labels (consistent with DataFrame behavior). To access a value by position, use `ser.iloc[pos]`\n",
      "\n",
      "/Users/borja/Desktop/Desktop - Borja’s Mac mini/Portfolio/EDA/app.py:41: FutureWarning:\n",
      "\n",
      "Series.__getitem__ treating keys as positions is deprecated. In a future version, integer keys will always be treated as labels (consistent with DataFrame behavior). To access a value by position, use `ser.iloc[pos]`\n",
      "\n",
      "/Users/borja/Desktop/Desktop - Borja’s Mac mini/Portfolio/EDA/app.py:41: FutureWarning:\n",
      "\n",
      "Series.__getitem__ treating keys as positions is deprecated. In a future version, integer keys will always be treated as labels (consistent with DataFrame behavior). To access a value by position, use `ser.iloc[pos]`\n",
      "\n",
      "/Users/borja/Desktop/Desktop - Borja’s Mac mini/Portfolio/EDA/app.py:41: FutureWarning:\n",
      "\n",
      "Series.__getitem__ treating keys as positions is deprecated. In a future version, integer keys will always be treated as labels (consistent with DataFrame behavior). To access a value by position, use `ser.iloc[pos]`\n",
      "\n",
      "/Users/borja/Desktop/Desktop - Borja’s Mac mini/Portfolio/EDA/app.py:41: FutureWarning:\n",
      "\n",
      "Series.__getitem__ treating keys as positions is deprecated. In a future version, integer keys will always be treated as labels (consistent with DataFrame behavior). To access a value by position, use `ser.iloc[pos]`\n",
      "\n",
      "/Users/borja/Desktop/Desktop - Borja’s Mac mini/Portfolio/EDA/app.py:41: FutureWarning:\n",
      "\n",
      "Series.__getitem__ treating keys as positions is deprecated. In a future version, integer keys will always be treated as labels (consistent with DataFrame behavior). To access a value by position, use `ser.iloc[pos]`\n",
      "\n",
      "/Users/borja/Desktop/Desktop - Borja’s Mac mini/Portfolio/EDA/app.py:41: FutureWarning:\n",
      "\n",
      "Series.__getitem__ treating keys as positions is deprecated. In a future version, integer keys will always be treated as labels (consistent with DataFrame behavior). To access a value by position, use `ser.iloc[pos]`\n",
      "\n",
      "/Users/borja/Desktop/Desktop - Borja’s Mac mini/Portfolio/EDA/app.py:41: FutureWarning:\n",
      "\n",
      "Series.__getitem__ treating keys as positions is deprecated. In a future version, integer keys will always be treated as labels (consistent with DataFrame behavior). To access a value by position, use `ser.iloc[pos]`\n",
      "\n",
      "/Users/borja/Desktop/Desktop - Borja’s Mac mini/Portfolio/EDA/app.py:41: FutureWarning:\n",
      "\n",
      "Series.__getitem__ treating keys as positions is deprecated. In a future version, integer keys will always be treated as labels (consistent with DataFrame behavior). To access a value by position, use `ser.iloc[pos]`\n",
      "\n",
      "/Users/borja/Desktop/Desktop - Borja’s Mac mini/Portfolio/EDA/app.py:41: FutureWarning:\n",
      "\n",
      "Series.__getitem__ treating keys as positions is deprecated. In a future version, integer keys will always be treated as labels (consistent with DataFrame behavior). To access a value by position, use `ser.iloc[pos]`\n",
      "\n",
      "/Users/borja/Desktop/Desktop - Borja’s Mac mini/Portfolio/EDA/app.py:41: FutureWarning:\n",
      "\n",
      "Series.__getitem__ treating keys as positions is deprecated. In a future version, integer keys will always be treated as labels (consistent with DataFrame behavior). To access a value by position, use `ser.iloc[pos]`\n",
      "\n",
      "^C\n",
      "\u001b[34m  Stopping...\u001b[0m\n"
     ]
    }
   ],
   "source": [
    "! streamlit run app.py"
   ]
  },
  {
   "cell_type": "code",
   "execution_count": 81,
   "id": "08ef7cf0-f5a3-4dff-8d44-b6152585243c",
   "metadata": {
    "scrolled": true
   },
   "outputs": [
    {
     "name": "stdout",
     "output_type": "stream",
     "text": [
      "Collecting pipreqs\n",
      "  Downloading pipreqs-0.5.0-py3-none-any.whl.metadata (7.9 kB)\n",
      "Collecting docopt==0.6.2 (from pipreqs)\n",
      "  Downloading docopt-0.6.2.tar.gz (25 kB)\n",
      "  Preparing metadata (setup.py) ... \u001b[?25ldone\n",
      "\u001b[?25hCollecting ipython==8.12.3 (from pipreqs)\n",
      "  Downloading ipython-8.12.3-py3-none-any.whl.metadata (5.7 kB)\n",
      "Requirement already satisfied: nbconvert<8.0.0,>=7.11.0 in /Users/borja/anaconda3/envs/Kaggle/lib/python3.12/site-packages (from pipreqs) (7.16.4)\n",
      "Collecting yarg==0.1.9 (from pipreqs)\n",
      "  Downloading yarg-0.1.9-py2.py3-none-any.whl.metadata (4.6 kB)\n",
      "Collecting backcall (from ipython==8.12.3->pipreqs)\n",
      "  Downloading backcall-0.2.0-py2.py3-none-any.whl.metadata (2.0 kB)\n",
      "Requirement already satisfied: decorator in /Users/borja/anaconda3/envs/Kaggle/lib/python3.12/site-packages (from ipython==8.12.3->pipreqs) (5.1.1)\n",
      "Requirement already satisfied: jedi>=0.16 in /Users/borja/anaconda3/envs/Kaggle/lib/python3.12/site-packages (from ipython==8.12.3->pipreqs) (0.19.1)\n",
      "Requirement already satisfied: matplotlib-inline in /Users/borja/anaconda3/envs/Kaggle/lib/python3.12/site-packages (from ipython==8.12.3->pipreqs) (0.1.6)\n",
      "Collecting pickleshare (from ipython==8.12.3->pipreqs)\n",
      "  Downloading pickleshare-0.7.5-py2.py3-none-any.whl.metadata (1.5 kB)\n",
      "Requirement already satisfied: prompt-toolkit!=3.0.37,<3.1.0,>=3.0.30 in /Users/borja/anaconda3/envs/Kaggle/lib/python3.12/site-packages (from ipython==8.12.3->pipreqs) (3.0.43)\n",
      "Requirement already satisfied: pygments>=2.4.0 in /Users/borja/anaconda3/envs/Kaggle/lib/python3.12/site-packages (from ipython==8.12.3->pipreqs) (2.15.1)\n",
      "Requirement already satisfied: stack-data in /Users/borja/anaconda3/envs/Kaggle/lib/python3.12/site-packages (from ipython==8.12.3->pipreqs) (0.2.0)\n",
      "Requirement already satisfied: traitlets>=5 in /Users/borja/anaconda3/envs/Kaggle/lib/python3.12/site-packages (from ipython==8.12.3->pipreqs) (5.14.3)\n",
      "Requirement already satisfied: pexpect>4.3 in /Users/borja/anaconda3/envs/Kaggle/lib/python3.12/site-packages (from ipython==8.12.3->pipreqs) (4.8.0)\n",
      "Requirement already satisfied: appnope in /Users/borja/anaconda3/envs/Kaggle/lib/python3.12/site-packages (from ipython==8.12.3->pipreqs) (0.1.3)\n",
      "Requirement already satisfied: requests in /Users/borja/anaconda3/envs/Kaggle/lib/python3.12/site-packages (from yarg==0.1.9->pipreqs) (2.32.3)\n",
      "Requirement already satisfied: beautifulsoup4 in /Users/borja/anaconda3/envs/Kaggle/lib/python3.12/site-packages (from nbconvert<8.0.0,>=7.11.0->pipreqs) (4.12.3)\n",
      "Requirement already satisfied: bleach!=5.0.0 in /Users/borja/anaconda3/envs/Kaggle/lib/python3.12/site-packages (from nbconvert<8.0.0,>=7.11.0->pipreqs) (4.1.0)\n",
      "Requirement already satisfied: defusedxml in /Users/borja/anaconda3/envs/Kaggle/lib/python3.12/site-packages (from nbconvert<8.0.0,>=7.11.0->pipreqs) (0.7.1)\n",
      "Requirement already satisfied: jinja2>=3.0 in /Users/borja/anaconda3/envs/Kaggle/lib/python3.12/site-packages (from nbconvert<8.0.0,>=7.11.0->pipreqs) (3.1.4)\n",
      "Requirement already satisfied: jupyter-core>=4.7 in /Users/borja/anaconda3/envs/Kaggle/lib/python3.12/site-packages (from nbconvert<8.0.0,>=7.11.0->pipreqs) (5.7.2)\n",
      "Requirement already satisfied: jupyterlab-pygments in /Users/borja/anaconda3/envs/Kaggle/lib/python3.12/site-packages (from nbconvert<8.0.0,>=7.11.0->pipreqs) (0.1.2)\n",
      "Requirement already satisfied: markupsafe>=2.0 in /Users/borja/anaconda3/envs/Kaggle/lib/python3.12/site-packages (from nbconvert<8.0.0,>=7.11.0->pipreqs) (2.1.3)\n",
      "Requirement already satisfied: mistune<4,>=2.0.3 in /Users/borja/anaconda3/envs/Kaggle/lib/python3.12/site-packages (from nbconvert<8.0.0,>=7.11.0->pipreqs) (2.0.4)\n",
      "Requirement already satisfied: nbclient>=0.5.0 in /Users/borja/anaconda3/envs/Kaggle/lib/python3.12/site-packages (from nbconvert<8.0.0,>=7.11.0->pipreqs) (0.8.0)\n",
      "Requirement already satisfied: nbformat>=5.7 in /Users/borja/anaconda3/envs/Kaggle/lib/python3.12/site-packages (from nbconvert<8.0.0,>=7.11.0->pipreqs) (5.10.4)\n",
      "Requirement already satisfied: packaging in /Users/borja/anaconda3/envs/Kaggle/lib/python3.12/site-packages (from nbconvert<8.0.0,>=7.11.0->pipreqs) (24.1)\n",
      "Requirement already satisfied: pandocfilters>=1.4.1 in /Users/borja/anaconda3/envs/Kaggle/lib/python3.12/site-packages (from nbconvert<8.0.0,>=7.11.0->pipreqs) (1.5.0)\n",
      "Requirement already satisfied: tinycss2 in /Users/borja/anaconda3/envs/Kaggle/lib/python3.12/site-packages (from nbconvert<8.0.0,>=7.11.0->pipreqs) (1.2.1)\n",
      "Requirement already satisfied: six>=1.9.0 in /Users/borja/anaconda3/envs/Kaggle/lib/python3.12/site-packages (from bleach!=5.0.0->nbconvert<8.0.0,>=7.11.0->pipreqs) (1.16.0)\n",
      "Requirement already satisfied: webencodings in /Users/borja/anaconda3/envs/Kaggle/lib/python3.12/site-packages (from bleach!=5.0.0->nbconvert<8.0.0,>=7.11.0->pipreqs) (0.5.1)\n",
      "Requirement already satisfied: parso<0.9.0,>=0.8.3 in /Users/borja/anaconda3/envs/Kaggle/lib/python3.12/site-packages (from jedi>=0.16->ipython==8.12.3->pipreqs) (0.8.3)\n",
      "Requirement already satisfied: platformdirs>=2.5 in /Users/borja/anaconda3/envs/Kaggle/lib/python3.12/site-packages (from jupyter-core>=4.7->nbconvert<8.0.0,>=7.11.0->pipreqs) (3.10.0)\n",
      "Requirement already satisfied: jupyter-client>=6.1.12 in /Users/borja/anaconda3/envs/Kaggle/lib/python3.12/site-packages (from nbclient>=0.5.0->nbconvert<8.0.0,>=7.11.0->pipreqs) (8.6.0)\n",
      "Requirement already satisfied: fastjsonschema>=2.15 in /Users/borja/anaconda3/envs/Kaggle/lib/python3.12/site-packages (from nbformat>=5.7->nbconvert<8.0.0,>=7.11.0->pipreqs) (2.16.2)\n",
      "Requirement already satisfied: jsonschema>=2.6 in /Users/borja/anaconda3/envs/Kaggle/lib/python3.12/site-packages (from nbformat>=5.7->nbconvert<8.0.0,>=7.11.0->pipreqs) (4.23.0)\n",
      "Requirement already satisfied: ptyprocess>=0.5 in /Users/borja/anaconda3/envs/Kaggle/lib/python3.12/site-packages (from pexpect>4.3->ipython==8.12.3->pipreqs) (0.7.0)\n",
      "Requirement already satisfied: wcwidth in /Users/borja/anaconda3/envs/Kaggle/lib/python3.12/site-packages (from prompt-toolkit!=3.0.37,<3.1.0,>=3.0.30->ipython==8.12.3->pipreqs) (0.2.5)\n",
      "Requirement already satisfied: soupsieve>1.2 in /Users/borja/anaconda3/envs/Kaggle/lib/python3.12/site-packages (from beautifulsoup4->nbconvert<8.0.0,>=7.11.0->pipreqs) (2.5)\n",
      "Requirement already satisfied: charset-normalizer<4,>=2 in /Users/borja/anaconda3/envs/Kaggle/lib/python3.12/site-packages (from requests->yarg==0.1.9->pipreqs) (3.3.2)\n",
      "Requirement already satisfied: idna<4,>=2.5 in /Users/borja/anaconda3/envs/Kaggle/lib/python3.12/site-packages (from requests->yarg==0.1.9->pipreqs) (3.7)\n",
      "Requirement already satisfied: urllib3<3,>=1.21.1 in /Users/borja/anaconda3/envs/Kaggle/lib/python3.12/site-packages (from requests->yarg==0.1.9->pipreqs) (2.2.3)\n",
      "Requirement already satisfied: certifi>=2017.4.17 in /Users/borja/anaconda3/envs/Kaggle/lib/python3.12/site-packages (from requests->yarg==0.1.9->pipreqs) (2024.12.14)\n",
      "Requirement already satisfied: executing in /Users/borja/anaconda3/envs/Kaggle/lib/python3.12/site-packages (from stack-data->ipython==8.12.3->pipreqs) (0.8.3)\n",
      "Requirement already satisfied: asttokens in /Users/borja/anaconda3/envs/Kaggle/lib/python3.12/site-packages (from stack-data->ipython==8.12.3->pipreqs) (2.0.5)\n",
      "Requirement already satisfied: pure-eval in /Users/borja/anaconda3/envs/Kaggle/lib/python3.12/site-packages (from stack-data->ipython==8.12.3->pipreqs) (0.2.2)\n",
      "Requirement already satisfied: attrs>=22.2.0 in /Users/borja/anaconda3/envs/Kaggle/lib/python3.12/site-packages (from jsonschema>=2.6->nbformat>=5.7->nbconvert<8.0.0,>=7.11.0->pipreqs) (24.2.0)\n",
      "Requirement already satisfied: jsonschema-specifications>=2023.03.6 in /Users/borja/anaconda3/envs/Kaggle/lib/python3.12/site-packages (from jsonschema>=2.6->nbformat>=5.7->nbconvert<8.0.0,>=7.11.0->pipreqs) (2023.7.1)\n",
      "Requirement already satisfied: referencing>=0.28.4 in /Users/borja/anaconda3/envs/Kaggle/lib/python3.12/site-packages (from jsonschema>=2.6->nbformat>=5.7->nbconvert<8.0.0,>=7.11.0->pipreqs) (0.30.2)\n",
      "Requirement already satisfied: rpds-py>=0.7.1 in /Users/borja/anaconda3/envs/Kaggle/lib/python3.12/site-packages (from jsonschema>=2.6->nbformat>=5.7->nbconvert<8.0.0,>=7.11.0->pipreqs) (0.10.6)\n",
      "Requirement already satisfied: python-dateutil>=2.8.2 in /Users/borja/anaconda3/envs/Kaggle/lib/python3.12/site-packages (from jupyter-client>=6.1.12->nbclient>=0.5.0->nbconvert<8.0.0,>=7.11.0->pipreqs) (2.9.0.post0)\n",
      "Requirement already satisfied: pyzmq>=23.0 in /Users/borja/anaconda3/envs/Kaggle/lib/python3.12/site-packages (from jupyter-client>=6.1.12->nbclient>=0.5.0->nbconvert<8.0.0,>=7.11.0->pipreqs) (25.1.2)\n",
      "Requirement already satisfied: tornado>=6.2 in /Users/borja/anaconda3/envs/Kaggle/lib/python3.12/site-packages (from jupyter-client>=6.1.12->nbclient>=0.5.0->nbconvert<8.0.0,>=7.11.0->pipreqs) (6.4.1)\n",
      "Downloading pipreqs-0.5.0-py3-none-any.whl (33 kB)\n",
      "Downloading ipython-8.12.3-py3-none-any.whl (798 kB)\n",
      "\u001b[2K   \u001b[90m━━━━━━━━━━━━━━━━━━━━━━━━━━━━━━━━━━━━━━━━\u001b[0m \u001b[32m798.3/798.3 kB\u001b[0m \u001b[31m13.1 MB/s\u001b[0m eta \u001b[36m0:00:00\u001b[0m\n",
      "\u001b[?25hDownloading yarg-0.1.9-py2.py3-none-any.whl (19 kB)\n",
      "Downloading backcall-0.2.0-py2.py3-none-any.whl (11 kB)\n",
      "Downloading pickleshare-0.7.5-py2.py3-none-any.whl (6.9 kB)\n",
      "Building wheels for collected packages: docopt\n",
      "  Building wheel for docopt (setup.py) ... \u001b[?25ldone\n",
      "\u001b[?25h  Created wheel for docopt: filename=docopt-0.6.2-py2.py3-none-any.whl size=13706 sha256=1177c4b0ef7ca84d430ae59347af6393787972856e0bffb022db11d145151fe7\n",
      "  Stored in directory: /Users/borja/Library/Caches/pip/wheels/1a/bf/a1/4cee4f7678c68c5875ca89eaccf460593539805c3906722228\n",
      "Successfully built docopt\n",
      "Installing collected packages: pickleshare, docopt, backcall, yarg, ipython, pipreqs\n",
      "  Attempting uninstall: ipython\n",
      "    Found existing installation: ipython 8.27.0\n",
      "    Uninstalling ipython-8.27.0:\n",
      "      Successfully uninstalled ipython-8.27.0\n",
      "Successfully installed backcall-0.2.0 docopt-0.6.2 ipython-8.12.3 pickleshare-0.7.5 pipreqs-0.5.0 yarg-0.1.9\n"
     ]
    }
   ],
   "source": [
    "! pip install pipreqs"
   ]
  },
  {
   "cell_type": "code",
   "execution_count": 93,
   "id": "4ad8a928-0c79-4d13-b508-5a5ecee2aee8",
   "metadata": {},
   "outputs": [
    {
     "name": "stdout",
     "output_type": "stream",
     "text": [
      "INFO: Not scanning for jupyter notebooks.\n",
      "WARNING: Import named \"altair\" not found locally. Trying to resolve it at the PyPI server.\n",
      "WARNING: Import named \"altair\" was resolved to \"altair:5.5.0\" package (https://pypi.org/project/altair/).\n",
      "Please, verify manually the final list of requirements.txt to avoid possible dependency confusions.\n",
      "WARNING: Import named \"numpy\" not found locally. Trying to resolve it at the PyPI server.\n",
      "WARNING: Import named \"numpy\" was resolved to \"numpy:2.2.3\" package (https://pypi.org/project/numpy/).\n",
      "Please, verify manually the final list of requirements.txt to avoid possible dependency confusions.\n",
      "WARNING: Import named \"pandas\" not found locally. Trying to resolve it at the PyPI server.\n",
      "WARNING: Import named \"pandas\" was resolved to \"pandas:2.2.3\" package (https://pypi.org/project/pandas/).\n",
      "Please, verify manually the final list of requirements.txt to avoid possible dependency confusions.\n",
      "INFO: Successfully saved requirements file in /Users/borja/Desktop/Desktop - Borja’s Mac mini/Portfolio/EDA/requirements.txt\n"
     ]
    }
   ],
   "source": [
    "\n",
    "! pipreqs --force"
   ]
  },
  {
   "cell_type": "code",
   "execution_count": null,
   "id": "14ee9dad-131d-4f89-8183-18be8a9df06a",
   "metadata": {},
   "outputs": [],
   "source": []
  }
 ],
 "metadata": {
  "kernelspec": {
   "display_name": "Python [conda env:Kaggle] *",
   "language": "python",
   "name": "conda-env-Kaggle-py"
  },
  "language_info": {
   "codemirror_mode": {
    "name": "ipython",
    "version": 3
   },
   "file_extension": ".py",
   "mimetype": "text/x-python",
   "name": "python",
   "nbconvert_exporter": "python",
   "pygments_lexer": "ipython3",
   "version": "3.12.7"
  }
 },
 "nbformat": 4,
 "nbformat_minor": 5
}
